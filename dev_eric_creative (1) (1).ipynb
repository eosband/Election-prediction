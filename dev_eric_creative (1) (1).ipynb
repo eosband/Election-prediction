{
 "cells": [
  {
   "cell_type": "markdown",
   "metadata": {
    "id": "gVj1JpqUWNp1"
   },
   "source": [
    "<h2>CS 4780/5780 Final Project: </h2>\n",
    "<h3>Election Result Prediction for US Counties</h3>\n",
    "\n",
    "Names and NetIDs for your group members: Eric Osband (eo255), Anthony Cuturuffo (acc284), Eddie Freedman (ebf45???)"
   ]
  },
  {
   "cell_type": "markdown",
   "metadata": {
    "id": "H4Y-2-S5WNp1"
   },
   "source": [
    "<h3>Introduction:</h3>\n",
    "\n",
    "<p> The final project is about conducting a real-world machine learning project on your own, with everything that is involved. Unlike in the programming projects 1-5, where we gave you all the scaffolding and you just filled in the blanks, you now start from scratch. The programming project provide templates for how to do this, and the most recent video lectures summarize some of the tricks you will need (e.g. feature normalization, feature construction). So, this final project brings realism to how you will use machine learning in the real world.  </p>\n",
    "\n",
    "The task you will work on is forecasting election results. Economic and sociological factors have been widely used when making predictions on the voting results of US elections. Economic and sociological factors vary a lot among counties in the United States. In addition, as you may observe from the election map of recent elections, neighbor counties show similar patterns in terms of the voting results. In this project you will bring the power of machine learning to make predictions for the county-level election results using Economic and sociological factors and the geographic structure of US counties. </p>\n",
    "<p>\n",
    "\n",
    "<h3>Your Task:</h3>\n",
    "Plase read the project description PDF file carefully and make sure you write your code and answers to all the questions in this Jupyter Notebook. Your answers to the questions are a large portion of your grade for this final project. Please import the packages in this notebook and cite any references you used as mentioned in the project description. You need to print this entire Jupyter Notebook as a PDF file and submit to Gradescope and also submit the ipynb runnable version to Canvas for us to run.\n",
    "\n",
    "<h3>Due Date:</h3>\n",
    "The final project dataset and template jupyter notebook will be due on <strong>December 15th</strong> . Note that <strong>no late submissions will be accepted</strong>  and you cannot use any of your unused slip days before.\n",
    "</p>"
   ]
  },
  {
   "cell_type": "markdown",
   "metadata": {
    "id": "Jjwk83POWNp1"
   },
   "source": [
    "![image.png; width=\"100\";](attachment:image.png)"
   ]
  },
  {
   "cell_type": "markdown",
   "metadata": {
    "id": "PdQ0GV-eWNp1"
   },
   "source": [
    "<h2>Part 1: Basics</h2><p>"
   ]
  },
  {
   "cell_type": "markdown",
   "metadata": {
    "id": "VFL54oJVWNp1"
   },
   "source": [
    "<h3>1.1 Import:</h3><p>\n",
    "Please import necessary packages to use. Note that learning and using packages are recommended but not required for this project. Some official tutorial for suggested packacges includes:\n",
    "    \n",
    "https://scikit-learn.org/stable/tutorial/basic/tutorial.html\n",
    "    \n",
    "https://pytorch.org/tutorials/\n",
    "    \n",
    "https://pandas.pydata.org/pandas-docs/stable/user_guide/10min.html\n",
    "<p>"
   ]
  },
  {
   "cell_type": "markdown",
   "metadata": {},
   "source": [
    "FROM ERIC: To download PyTorch, run the following\n",
    "\n",
    "<code>conda install pytorch torchvision -c pytorch</code>"
   ]
  },
  {
   "cell_type": "code",
   "execution_count": 1,
   "metadata": {
    "id": "mQDt73qwWNp1"
   },
   "outputs": [],
   "source": [
    "import os\n",
    "import pandas as pd\n",
    "import numpy as np\n",
    "# TODO\n",
    "from sklearn.preprocessing import StandardScaler\n",
    "from sklearn.discriminant_analysis import LinearDiscriminantAnalysis\n",
    "from sklearn import svm\n",
    "from sklearn.model_selection import train_test_split, cross_validate\n",
    "from sklearn.metrics import make_scorer"
   ]
  },
  {
   "cell_type": "markdown",
   "metadata": {
    "id": "QJGUskA_WNp1"
   },
   "source": [
    "<h3>1.2 Weighted Accuracy:</h3><p>\n",
    "Since our dataset labels are heavily biased, you need to use the following function to compute weighted accuracy throughout your training and validation process and we use this for testing on Kaggle.\n",
    "<p>"
   ]
  },
  {
   "cell_type": "code",
   "execution_count": 2,
   "metadata": {
    "id": "vz7GtRvuWNp1"
   },
   "outputs": [],
   "source": [
    "def weighted_accuracy(pred, true):\n",
    "    assert(len(pred) == len(true))\n",
    "    num_labels = len(true)\n",
    "    num_pos = sum(true)\n",
    "    num_neg = num_labels - num_pos\n",
    "    frac_pos = num_pos/num_labels\n",
    "    weight_pos = 1/frac_pos\n",
    "    weight_neg = 1/(1-frac_pos)\n",
    "    num_pos_correct = 0\n",
    "    num_neg_correct = 0\n",
    "    for pred_i, true_i in zip(pred, true):\n",
    "        num_pos_correct += (pred_i == true_i and true_i == 1)\n",
    "        num_neg_correct += (pred_i == true_i and true_i == 0)\n",
    "    weighted_accuracy = ((weight_pos * num_pos_correct) \n",
    "                         + (weight_neg * num_neg_correct))/((weight_pos * num_pos) + (weight_neg * num_neg))\n",
    "    return weighted_accuracy"
   ]
  },
  {
   "cell_type": "markdown",
   "metadata": {
    "id": "fd8F4FVTWNp2"
   },
   "source": [
    "<h2>Part 2: Baseline Solution</h2><p>\n",
    "Note that your code should be commented well and in part 2.4 you can refer to your comments. (e.g. # Here is SVM, \n",
    "# Here is validation for SVM, etc). Also, we recommend that you do not to use 2012 dataset and the graph dataset to reach the baseline accuracy for 68% in this part, a basic solution with only 2016 dataset and reasonable model selection will be enough, it will be great if you explore thee graph and possibly 2012 dataset in Part 3."
   ]
  },
  {
   "cell_type": "markdown",
   "metadata": {
    "id": "4STDPiVFWNp2"
   },
   "source": [
    "<h3>2.1 Preprocessing and Feature Extraction:</h3><p>\n",
    "Given the training dataset and graph information, you need to correctly preprocess the dataset (e.g. feature normalization). For baseline solution in this part, you might not need to introduce extra features to reach the baseline test accuracy.\n",
    "<p>"
   ]
  },
  {
   "cell_type": "code",
   "execution_count": 3,
   "metadata": {},
   "outputs": [],
   "source": [
    "def add_target(df):\n",
    "    '''\n",
    "    add_target(df) is df but with a target column extracted from GOP and DEM vote counts.\n",
    "    Labels 1 if DEM > GOP and 0 otherwise. DEM and GOP columns are removed afterwards.\n",
    "    '''\n",
    "    df[\"target\"] = (df[\"DEM\"] > df[\"GOP\"]).astype(int)\n",
    "    df = df.drop(columns = [\"DEM\", \"GOP\"])\n",
    "    return df"
   ]
  },
  {
   "cell_type": "code",
   "execution_count": 4,
   "metadata": {},
   "outputs": [],
   "source": [
    "df_2016 = add_target(pd.read_csv(\"./train_2016.csv\", sep=',', encoding='unicode_escape'))"
   ]
  },
  {
   "cell_type": "code",
   "execution_count": 5,
   "metadata": {},
   "outputs": [],
   "source": [
    "def add_features(df):\n",
    "    \"\"\"\n",
    "    add_features(df) is df but with the following additional features:\n",
    "        state: id corresponding to state (integer 0-49)\n",
    "    \"\"\"\n",
    "    # Get state initials from a county string, map state initials to their place in array, create new column\n",
    "    get_state_from_county = lambda county : county[county.index(\",\") + 2:]\n",
    "    df.loc[:,\"state_name\"] = df[\"County\"].apply(get_state_from_county)\n",
    "    states = df[\"state_name\"].unique().tolist()\n",
    "    get_id_from_state = lambda state : states.index(state)\n",
    "    df.loc[:,\"state\"] = df[\"state_name\"].apply(get_id_from_state)\n",
    "\n",
    "    # Get rid of all commas in MedianIncome column\n",
    "    df.loc[:,'MedianIncome']= df['MedianIncome'].str.replace(',','').astype(int)\n",
    "    \n",
    "    df = df.drop(columns = [\"County\",'state_name']) # These columns no longer needed\n",
    "    return df\n",
    "\n",
    "def preprocess(train_df, validation_df, test_df):\n",
    "    \"\"\"\n",
    "    preprocess(train_df, validation_df, test_df) returns the three respective dataframes but preprocessed\n",
    "    in the following way:\n",
    "        1) Add features as decided by add_features(df)\n",
    "        2) Normalize all features to a standard normal according to train_df statistics\n",
    "        3) Make target column the last column (only applies to train_df and validation_df)\n",
    "    \"\"\"\n",
    "    # First add features\n",
    "    train_df = add_features(train_df)\n",
    "    validation_df = add_features(validation_df)\n",
    "    test_df = add_features(test_df)\n",
    "\n",
    "    # Hold onto column references to put them back later\n",
    "    temp = train_df[\"target\"]\n",
    "    temp2 = validation_df[\"target\"]\n",
    "    train_df = train_df.drop(columns = [\"target\"])\n",
    "    validation_df = validation_df.drop(columns = [\"target\"])\n",
    "    \n",
    "    columns = list(train_df.columns)[1:]\n",
    "\n",
    "    std_scaler = StandardScaler()\n",
    "    std_scaler.fit(train_df[columns]) # Fit scaler to training dataset only\n",
    "    # Scale all three datasets\n",
    "    train_df[columns] = std_scaler.transform(train_df[columns]) \n",
    "    validation_df[columns] = std_scaler.transform(validation_df[columns])\n",
    "    test_df[columns] = std_scaler.transform(test_df[columns])\n",
    "    train_df[\"target\"] = temp # Add back target columns to ensure they are at the end of the dataframe\n",
    "    validation_df[\"target\"] = temp2\n",
    "    return train_df, validation_df, test_df"
   ]
  },
  {
   "cell_type": "code",
   "execution_count": 6,
   "metadata": {},
   "outputs": [
    {
     "data": {
      "text/html": [
       "<div>\n",
       "<style scoped>\n",
       "    .dataframe tbody tr th:only-of-type {\n",
       "        vertical-align: middle;\n",
       "    }\n",
       "\n",
       "    .dataframe tbody tr th {\n",
       "        vertical-align: top;\n",
       "    }\n",
       "\n",
       "    .dataframe thead th {\n",
       "        text-align: right;\n",
       "    }\n",
       "</style>\n",
       "<table border=\"1\" class=\"dataframe\">\n",
       "  <thead>\n",
       "    <tr style=\"text-align: right;\">\n",
       "      <th></th>\n",
       "      <th>FIPS</th>\n",
       "      <th>MedianIncome</th>\n",
       "      <th>MigraRate</th>\n",
       "      <th>BirthRate</th>\n",
       "      <th>DeathRate</th>\n",
       "      <th>BachelorRate</th>\n",
       "      <th>UnemploymentRate</th>\n",
       "      <th>state</th>\n",
       "      <th>target</th>\n",
       "    </tr>\n",
       "  </thead>\n",
       "  <tbody>\n",
       "    <tr>\n",
       "      <th>351</th>\n",
       "      <td>19117</td>\n",
       "      <td>0.505410</td>\n",
       "      <td>-0.203525</td>\n",
       "      <td>-0.161417</td>\n",
       "      <td>1.309507</td>\n",
       "      <td>-0.484146</td>\n",
       "      <td>-1.142763</td>\n",
       "      <td>-1.428490</td>\n",
       "      <td>0</td>\n",
       "    </tr>\n",
       "    <tr>\n",
       "      <th>257</th>\n",
       "      <td>22069</td>\n",
       "      <td>-1.395253</td>\n",
       "      <td>-0.154666</td>\n",
       "      <td>0.762462</td>\n",
       "      <td>0.052650</td>\n",
       "      <td>-0.397756</td>\n",
       "      <td>0.856514</td>\n",
       "      <td>-1.345683</td>\n",
       "      <td>0</td>\n",
       "    </tr>\n",
       "    <tr>\n",
       "      <th>1424</th>\n",
       "      <td>22051</td>\n",
       "      <td>0.010600</td>\n",
       "      <td>-0.040663</td>\n",
       "      <td>0.842799</td>\n",
       "      <td>-0.471041</td>\n",
       "      <td>0.498538</td>\n",
       "      <td>0.079018</td>\n",
       "      <td>-1.345683</td>\n",
       "      <td>0</td>\n",
       "    </tr>\n",
       "    <tr>\n",
       "      <th>777</th>\n",
       "      <td>47183</td>\n",
       "      <td>-0.906038</td>\n",
       "      <td>-0.545535</td>\n",
       "      <td>-0.442598</td>\n",
       "      <td>0.192301</td>\n",
       "      <td>0.001797</td>\n",
       "      <td>0.356695</td>\n",
       "      <td>-1.262876</td>\n",
       "      <td>0</td>\n",
       "    </tr>\n",
       "    <tr>\n",
       "      <th>376</th>\n",
       "      <td>12069</td>\n",
       "      <td>0.046092</td>\n",
       "      <td>2.597699</td>\n",
       "      <td>-0.723779</td>\n",
       "      <td>0.436689</td>\n",
       "      <td>0.131382</td>\n",
       "      <td>-0.143124</td>\n",
       "      <td>-1.180069</td>\n",
       "      <td>0</td>\n",
       "    </tr>\n",
       "  </tbody>\n",
       "</table>\n",
       "</div>"
      ],
      "text/plain": [
       "       FIPS  MedianIncome  MigraRate  BirthRate  DeathRate  BachelorRate  \\\n",
       "351   19117      0.505410  -0.203525  -0.161417   1.309507     -0.484146   \n",
       "257   22069     -1.395253  -0.154666   0.762462   0.052650     -0.397756   \n",
       "1424  22051      0.010600  -0.040663   0.842799  -0.471041      0.498538   \n",
       "777   47183     -0.906038  -0.545535  -0.442598   0.192301      0.001797   \n",
       "376   12069      0.046092   2.597699  -0.723779   0.436689      0.131382   \n",
       "\n",
       "      UnemploymentRate     state  target  \n",
       "351          -1.142763 -1.428490       0  \n",
       "257           0.856514 -1.345683       0  \n",
       "1424          0.079018 -1.345683       0  \n",
       "777           0.356695 -1.262876       0  \n",
       "376          -0.143124 -1.180069       0  "
      ]
     },
     "execution_count": 6,
     "metadata": {},
     "output_type": "execute_result"
    }
   ],
   "source": [
    "test_df = pd.read_csv(\"test_2016_no_label.csv\")\n",
    "train_df, validation_df = train_test_split(df_2016, test_size=0.2) # Perform a test-train split of training data\n",
    "train_df = train_df.copy()\n",
    "validation_df = validation_df.copy()\n",
    "df, validation, test = preprocess(train_df, validation_df, test_df)\n",
    "df.head()"
   ]
  },
  {
   "cell_type": "markdown",
   "metadata": {
    "id": "UG-1TlocWNp2"
   },
   "source": [
    "<h3>2.2 Use At Least Two Training Algorithms from class:</h3><p>\n",
    "You need to use at least two training algorithms from class. You can use your code from previous projects or any packages you imported in part 1.1."
   ]
  },
  {
   "cell_type": "markdown",
   "metadata": {},
   "source": [
    "**NOTE:** We apply the LDA in section 2.3 via validation"
   ]
  },
  {
   "cell_type": "code",
   "execution_count": 7,
   "metadata": {},
   "outputs": [],
   "source": [
    "# TBD: Neural network"
   ]
  },
  {
   "cell_type": "markdown",
   "metadata": {
    "id": "TbJ4kRDhWNp2"
   },
   "source": [
    "<h3>2.3 Training, Validation and Model Selection:</h3><p>\n",
    "You need to split your data to a training set and validation set or performing a cross-validation for model selection."
   ]
  },
  {
   "cell_type": "code",
   "execution_count": 1,
   "metadata": {
    "id": "e3mQNv56WNp2"
   },
   "outputs": [],
   "source": [
    "# Now that we have added all necessary features, we perform validation to determine the optimal\n",
    "# prior probabilities.\n",
    "def perform_validation(df, validation):\n",
    "    '''\n",
    "    perform_validation(df, validation) performs validation on the prior probabilities of LDA to find the value\n",
    "    of the priors that maximize validation weighted accuracy.\n",
    "    Returns tuple:\n",
    "        best_lda, best_priors, best_score, best_one_percentages\n",
    "            best_lda: after finding optimal priors, this is an LDA fit on entire training + validation set \n",
    "            best_priors: array of length 2 with the optimal priors calculated through validation\n",
    "            best_score: weighted accuracy achieved by the highest performing lda on the validation set\n",
    "            best_one_percentages: using these optimal priors, this was the number of 1s predicted by the algorithm\n",
    "    '''\n",
    "    get_priors = lambda x : [0.9 - 0.001*x, 0.1 + 0.001*x] # Function to calculate priors from loop iteration\n",
    "    scores = []\n",
    "    one_percentages = []\n",
    "    x_train = df[df.columns[1:-1]] # Separate data into x and y train and test\n",
    "    x_test = validation[df.columns[1:-1]]\n",
    "    y_train = df['target']\n",
    "    y_test = validation['target']\n",
    "    # Now we repeatedly create LDA models after nudging the prior probabilities, then record the score\n",
    "    for x in range(899):\n",
    "        priors = get_priors(x)\n",
    "        lda = LinearDiscriminantAnalysis(solver=\"lsqr\",priors = priors).fit(x_train, y_train)\n",
    "        y_pred = lda.predict(x_test)\n",
    "        accuracy = weighted_accuracy(y_pred, y_test)\n",
    "        scores.append(accuracy)\n",
    "        one_percentages.append(np.count_nonzero(y_test) / len(y_test))\n",
    "    # Now we see which priors and accuracy were most successful\n",
    "    x = np.argmax(scores)\n",
    "    priors = get_priors(x)\n",
    "    lda = LinearDiscriminantAnalysis(priors = priors).fit(pd.concat([x_train,x_test]),pd.concat([y_train,y_test]))\n",
    "    return lda, priors, scores[x],one_percentages[x]"
   ]
  },
  {
   "cell_type": "code",
   "execution_count": 2,
   "metadata": {},
   "outputs": [
    {
     "ename": "NameError",
     "evalue": "name 'df' is not defined",
     "output_type": "error",
     "traceback": [
      "\u001b[0;31m---------------------------------------------------------------------------\u001b[0m",
      "\u001b[0;31mNameError\u001b[0m                                 Traceback (most recent call last)",
      "\u001b[0;32m<ipython-input-2-22c29bc1e2f9>\u001b[0m in \u001b[0;36m<module>\u001b[0;34m\u001b[0m\n\u001b[0;32m----> 1\u001b[0;31m \u001b[0mlda_basic\u001b[0m\u001b[0;34m,\u001b[0m \u001b[0mpriors\u001b[0m\u001b[0;34m,\u001b[0m \u001b[0mscore\u001b[0m\u001b[0;34m,\u001b[0m \u001b[0mone_percentage\u001b[0m \u001b[0;34m=\u001b[0m \u001b[0mperform_validation\u001b[0m\u001b[0;34m(\u001b[0m\u001b[0mdf\u001b[0m\u001b[0;34m,\u001b[0m \u001b[0mvalidation\u001b[0m\u001b[0;34m)\u001b[0m\u001b[0;34m\u001b[0m\u001b[0;34m\u001b[0m\u001b[0m\n\u001b[0m\u001b[1;32m      2\u001b[0m \u001b[0mbasic_score\u001b[0m \u001b[0;34m=\u001b[0m \u001b[0mscore\u001b[0m \u001b[0;31m# For use later to compare to creative\u001b[0m\u001b[0;34m\u001b[0m\u001b[0;34m\u001b[0m\u001b[0m\n\u001b[1;32m      3\u001b[0m \u001b[0mprint\u001b[0m\u001b[0;34m(\u001b[0m\u001b[0;34m\"Best priors:\"\u001b[0m\u001b[0;34m,\u001b[0m\u001b[0mpriors\u001b[0m\u001b[0;34m)\u001b[0m \u001b[0;31m# Priors are in the form [prior for GOP (0), prior for DEM (1)]\u001b[0m\u001b[0;34m\u001b[0m\u001b[0;34m\u001b[0m\u001b[0m\n\u001b[1;32m      4\u001b[0m \u001b[0mprint\u001b[0m\u001b[0;34m(\u001b[0m\u001b[0;34m\"Weighted accuracy:\"\u001b[0m\u001b[0;34m,\u001b[0m \u001b[0mscore\u001b[0m\u001b[0;34m)\u001b[0m \u001b[0;31m# Weighted accuracy score we achieved\u001b[0m\u001b[0;34m\u001b[0m\u001b[0;34m\u001b[0m\u001b[0m\n\u001b[1;32m      5\u001b[0m \u001b[0mprint\u001b[0m\u001b[0;34m(\u001b[0m\u001b[0;34m\"Percentage of 1s predicted:\"\u001b[0m\u001b[0;34m,\u001b[0m \u001b[0mone_percentage\u001b[0m\u001b[0;34m)\u001b[0m \u001b[0;31m# We also look to see the percentage of 1s we predicted\u001b[0m\u001b[0;34m\u001b[0m\u001b[0;34m\u001b[0m\u001b[0m\n",
      "\u001b[0;31mNameError\u001b[0m: name 'df' is not defined"
     ]
    }
   ],
   "source": [
    "lda_basic, priors, score, one_percentage = perform_validation(df, validation)\n",
    "basic_score = score # For use later to compare to creative\n",
    "print(\"Best priors:\",priors) # Priors are in the form [prior for GOP (0), prior for DEM (1)]\n",
    "print(\"Weighted accuracy:\", score) # Weighted accuracy score we achieved\n",
    "print(\"Percentage of 1s predicted:\", one_percentage) # We also look to see the percentage of 1s we predicted"
   ]
  },
  {
   "cell_type": "markdown",
   "metadata": {
    "id": "ZuOP9JmuWNp2"
   },
   "source": [
    "<h3>2.4 Explanation in Words:</h3><p>\n",
    "    You need to answer the following questions in the markdown cell after this cell:"
   ]
  },
  {
   "cell_type": "markdown",
   "metadata": {
    "id": "HHiJ7drqWNp2"
   },
   "source": [
    "2.4.1 How did you preprocess the dataset and features?\n",
    "\n",
    "2.4.2 Which two learning methods from class did you choose and why did you made the choices?\n",
    "\n",
    "2.4.3 How did you do the model selection?\n",
    "\n",
    "2.4.4 Does the test performance reach a given baseline 68% performanc? (Please include a screenshot of Kaggle Submission)"
   ]
  },
  {
   "cell_type": "markdown",
   "metadata": {},
   "source": [
    "1. To preprocess the label, we created a new binary value that equals 1 when the number of DEM votes was greater than the number of GOP votes, and 0 otherwise. In terms of features, we extracted the state abbreviation from the \"County\" column via substring selection and assigned each number to a number from 1 to 50. From there, all feature values (which excludes FIPS) were standardized according to a standard normal distribution.\n",
    "\n",
    "2. We chose to use LDA and Neural Networks as our two learning methods. \n",
    "    We chose LDA because we believed many of the features to be independently generated. It could also take into account the prior class probabilities, which in the end allowed us to essentially assign a greater weight to predict 1 than 0, and thus gave us such good accuracy. Additionally, most of our data was real-valued, so it was quite practical. These characteristics allowed us to assume that our data was normally distributed, which is an assumption of the LDA method. And clearly the model was quite a success.\n",
    "\n",
    "3. For the LDA model selection, we tested 899 different LDA's with slightly different priors and tested their accuracy on our validation set (20% of the total sample). Afterwards, we selected the model/parameters that achieved the greatest validation score. We also played around with different solvers, as well as using quadratic analysis rather than linear, but none of this realistically increased our performanc\n",
    "\n",
    "4. Our test performance exceeded baseline of 68%:"
   ]
  },
  {
   "cell_type": "markdown",
   "metadata": {},
   "source": [
    "![](BasicScore.jpeg)"
   ]
  },
  {
   "cell_type": "markdown",
   "metadata": {
    "id": "8pwkT1-tWNp2"
   },
   "source": []
  },
  {
   "cell_type": "markdown",
   "metadata": {
    "id": "f2JwrNuEWNp2"
   },
   "source": [
    "<h2>Part 3: Creative Solution</h2><p>"
   ]
  },
  {
   "cell_type": "markdown",
   "metadata": {
    "id": "HttJ6XeDWNp2"
   },
   "source": [
    "<h3>3.1 Open-ended Code:</h3><p>\n",
    "You may follow the steps in part 2 again but making innovative changes like creating new features, using new training algorithms, etc. Make sure you explain everything clearly in part 3.2. Note that reaching the 75% creative baseline is only a small portion of this part. Any creative ideas will receive most points as long as they are reasonable and clearly explained."
   ]
  },
  {
   "cell_type": "code",
   "execution_count": 10,
   "metadata": {},
   "outputs": [],
   "source": [
    "# Import necessary datasets and add target column when appropriate\n",
    "df_2016 = add_target(pd.read_csv(\"./train_2016.csv\", sep=',', encoding='unicode_escape'))\n",
    "df_graph = pd.read_csv(\"./graph.csv\", sep=',', encoding='unicode_escape')\n",
    "df_2012 = add_target(pd.read_csv(\"./train_2012.csv\", sep=',', encoding='unicode_escape'))"
   ]
  },
  {
   "cell_type": "code",
   "execution_count": 11,
   "metadata": {
    "colab": {
     "base_uri": "https://localhost:8080/",
     "height": 375
    },
    "id": "O7bsqEl8WNp2",
    "outputId": "8fa672e5-45b1-4982-f259-1ffe5710947d"
   },
   "outputs": [],
   "source": [
    "def add_features_creative(df):\n",
    "    \"\"\"\n",
    "    add_features_creative(df) is df but with the following additional features:\n",
    "        avg_neighbor: average prediction of all neighboring counties to the given county.\n",
    "                      Neighbors determined by graph.csv. First looks at prediction from 2016\n",
    "                      election, and if that cannot be found, looks at data from 2012 election.\n",
    "                      If that cannot be found either, then the given neighboring county is \n",
    "                      discounted from the average county score.\n",
    "         num_neighbors: number of contiguous counties to the given one, as given by graph.csv\n",
    "    \"\"\"    \n",
    "    avg_neighbor = []\n",
    "    num_neighbors = []\n",
    "    for row in df.iterrows():\n",
    "        # For each row, find all of its neighbors' FIPS codes as given in graph.csv\n",
    "        fips = row[1][\"FIPS\"]\n",
    "        neighbors1 = df_graph.loc[df_graph[\"SRC\"] == fips,\"DST\"].to_numpy()\n",
    "        neighbors2 = df_graph.loc[df_graph[\"DST\"] == fips,\"SRC\"].to_numpy()\n",
    "        neighbors = np.append(neighbors1,neighbors2)\n",
    "        neighbors = np.delete(neighbors,np.where(neighbors == fips)) # Delete current county from neighbors list\n",
    "        num_neighbors.append(len(neighbors)) # Add number of neighbors\n",
    "        total = 0\n",
    "        count = 0\n",
    "        for neighbor in neighbors:\n",
    "            count += 1\n",
    "            ndf = df_2016[df_2016[\"FIPS\"] == neighbor].head(1)\n",
    "            if not ndf.empty: # If this county was in 2016 dataset, add its target value to count\n",
    "                total += ndf.iloc[0][\"target\"]\n",
    "            else: # If it was not, then look at 2012 data\n",
    "                ndf = df_2012[df_2012[\"FIPS\"] == neighbor].head(1)\n",
    "                if not ndf.empty: # Add 2012 data if found\n",
    "                    total += ndf.iloc[0][\"target\"]\n",
    "                else: # If neither was found, make sure count keeps up\n",
    "                    count -= 1\n",
    "        if count <= 0:             # If there was no county information, put in a placeholder value of 0 as average\n",
    "            avg_neighbor.append(0) # neighbor score. This makes sense because most likely the missing county will\n",
    "        else:                      # be rural and therefore its neighbors would have voted GOP.\n",
    "            avg_neighbor.append(total / count)  # Average only reported counties\n",
    "\n",
    "    df.loc[:,\"avg_neighbor\"] = avg_neighbor\n",
    "    df.loc[:,\"num_neighbors\"] = num_neighbors\n",
    "    return df\n",
    "\n",
    "def preprocess_creative(train_df, validation_df, test_df):\n",
    "    \"\"\"\n",
    "    preprocess_creative(train_df, validation_df, test_df) returns the three respective dataframes but preprocessed\n",
    "    in the following way:\n",
    "        1) Add features as decided by add_features_creative(df)\n",
    "        2) Normalize all features to a standard normal according to train_df statistics\n",
    "        3) Make target column the last column (only applies to train_df and validation_df)\n",
    "    \"\"\"\n",
    "    # First add creative features\n",
    "    train_df = add_features_creative(train_df)\n",
    "    validation_df = add_features_creative(validation_df)\n",
    "    test_df = add_features_creative(test_df)\n",
    "    # After adding creative features, we go and do exactly what we did in the basic solution to normalize, etc.\n",
    "    return preprocess(train_df, validation_df, test_df)"
   ]
  },
  {
   "cell_type": "code",
   "execution_count": 12,
   "metadata": {
    "scrolled": true
   },
   "outputs": [
    {
     "data": {
      "text/html": [
       "<div>\n",
       "<style scoped>\n",
       "    .dataframe tbody tr th:only-of-type {\n",
       "        vertical-align: middle;\n",
       "    }\n",
       "\n",
       "    .dataframe tbody tr th {\n",
       "        vertical-align: top;\n",
       "    }\n",
       "\n",
       "    .dataframe thead th {\n",
       "        text-align: right;\n",
       "    }\n",
       "</style>\n",
       "<table border=\"1\" class=\"dataframe\">\n",
       "  <thead>\n",
       "    <tr style=\"text-align: right;\">\n",
       "      <th></th>\n",
       "      <th>FIPS</th>\n",
       "      <th>MedianIncome</th>\n",
       "      <th>MigraRate</th>\n",
       "      <th>BirthRate</th>\n",
       "      <th>DeathRate</th>\n",
       "      <th>BachelorRate</th>\n",
       "      <th>UnemploymentRate</th>\n",
       "      <th>avg_neighbor</th>\n",
       "      <th>num_neighbors</th>\n",
       "      <th>state</th>\n",
       "      <th>target</th>\n",
       "    </tr>\n",
       "  </thead>\n",
       "  <tbody>\n",
       "    <tr>\n",
       "      <th>1268</th>\n",
       "      <td>28147</td>\n",
       "      <td>-1.388055</td>\n",
       "      <td>-0.097922</td>\n",
       "      <td>-0.018454</td>\n",
       "      <td>0.895121</td>\n",
       "      <td>-0.864063</td>\n",
       "      <td>1.312947</td>\n",
       "      <td>-0.496512</td>\n",
       "      <td>-0.725225</td>\n",
       "      <td>-1.588252</td>\n",
       "      <td>0</td>\n",
       "    </tr>\n",
       "    <tr>\n",
       "      <th>174</th>\n",
       "      <td>38035</td>\n",
       "      <td>0.193803</td>\n",
       "      <td>-0.477175</td>\n",
       "      <td>1.265857</td>\n",
       "      <td>-1.402932</td>\n",
       "      <td>1.429701</td>\n",
       "      <td>-1.480561</td>\n",
       "      <td>-0.496512</td>\n",
       "      <td>0.036108</td>\n",
       "      <td>-1.503646</td>\n",
       "      <td>0</td>\n",
       "    </tr>\n",
       "    <tr>\n",
       "      <th>291</th>\n",
       "      <td>42067</td>\n",
       "      <td>0.008971</td>\n",
       "      <td>0.405001</td>\n",
       "      <td>-0.058589</td>\n",
       "      <td>0.188028</td>\n",
       "      <td>-0.777096</td>\n",
       "      <td>0.047962</td>\n",
       "      <td>-0.496512</td>\n",
       "      <td>0.797442</td>\n",
       "      <td>-1.419041</td>\n",
       "      <td>0</td>\n",
       "    </tr>\n",
       "    <tr>\n",
       "      <th>450</th>\n",
       "      <td>41005</td>\n",
       "      <td>2.002189</td>\n",
       "      <td>1.270689</td>\n",
       "      <td>-0.419801</td>\n",
       "      <td>-0.837258</td>\n",
       "      <td>1.679732</td>\n",
       "      <td>-0.479115</td>\n",
       "      <td>-0.496512</td>\n",
       "      <td>0.036108</td>\n",
       "      <td>-1.334436</td>\n",
       "      <td>1</td>\n",
       "    </tr>\n",
       "    <tr>\n",
       "      <th>645</th>\n",
       "      <td>20091</td>\n",
       "      <td>2.514351</td>\n",
       "      <td>0.355534</td>\n",
       "      <td>0.503297</td>\n",
       "      <td>-1.615060</td>\n",
       "      <td>3.690853</td>\n",
       "      <td>-1.006192</td>\n",
       "      <td>0.733206</td>\n",
       "      <td>0.797442</td>\n",
       "      <td>-1.249831</td>\n",
       "      <td>0</td>\n",
       "    </tr>\n",
       "  </tbody>\n",
       "</table>\n",
       "</div>"
      ],
      "text/plain": [
       "       FIPS  MedianIncome  MigraRate  BirthRate  DeathRate  BachelorRate  \\\n",
       "1268  28147     -1.388055  -0.097922  -0.018454   0.895121     -0.864063   \n",
       "174   38035      0.193803  -0.477175   1.265857  -1.402932      1.429701   \n",
       "291   42067      0.008971   0.405001  -0.058589   0.188028     -0.777096   \n",
       "450   41005      2.002189   1.270689  -0.419801  -0.837258      1.679732   \n",
       "645   20091      2.514351   0.355534   0.503297  -1.615060      3.690853   \n",
       "\n",
       "      UnemploymentRate  avg_neighbor  num_neighbors     state  target  \n",
       "1268          1.312947     -0.496512      -0.725225 -1.588252       0  \n",
       "174          -1.480561     -0.496512       0.036108 -1.503646       0  \n",
       "291           0.047962     -0.496512       0.797442 -1.419041       0  \n",
       "450          -0.479115     -0.496512       0.036108 -1.334436       1  \n",
       "645          -1.006192      0.733206       0.797442 -1.249831       0  "
      ]
     },
     "execution_count": 12,
     "metadata": {},
     "output_type": "execute_result"
    }
   ],
   "source": [
    "test_df = pd.read_csv(\"test_2016_no_label.csv\")\n",
    "train_df, validation_df = train_test_split(df_2016, test_size=0.2) # Perform a test-train split of training data\n",
    "train_df = train_df.copy()\n",
    "validation_df = validation_df.copy()\n",
    "df, validation, test_creative = preprocess_creative(train_df, validation_df, test_df)\n",
    "df.head()"
   ]
  },
  {
   "cell_type": "code",
   "execution_count": 13,
   "metadata": {
    "id": "DE0InbZ7WNp2"
   },
   "outputs": [
    {
     "name": "stdout",
     "output_type": "stream",
     "text": [
      "Best priors: [0.499, 0.501]\n",
      "Weighted accuracy: 0.8174603174603174\n",
      "Percentage of 1s predicted: 0.14469453376205788\n"
     ]
    }
   ],
   "source": [
    "lda_creative, priors, score, one_percentage = perform_validation(df, validation)\n",
    "print(\"Best priors:\",priors) # Priors are in the form [prior for GOP (0), prior for DEM (1)]\n",
    "print(\"Weighted accuracy:\", score) # Weighted accuracy score we achieved\n",
    "print(\"Percentage of 1s predicted:\", one_percentage) # We also look to see the percentage of 1s we predicted"
   ]
  },
  {
   "cell_type": "code",
   "execution_count": 14,
   "metadata": {},
   "outputs": [
    {
     "name": "stdout",
     "output_type": "stream",
     "text": [
      "Creative algorithm performed 3.990% better than basic solution\n"
     ]
    }
   ],
   "source": [
    "# Note that the following number changes drastically from run to run\n",
    "print(f'Creative algorithm performed {(score - basic_score)*100:.3f}% better than basic solution',)"
   ]
  },
  {
   "cell_type": "markdown",
   "metadata": {
    "id": "hwAAxp-nWNp2"
   },
   "source": [
    "<h3>3.2 Explanation in Words:</h3><p>"
   ]
  },
  {
   "cell_type": "markdown",
   "metadata": {
    "id": "Q8VSGimzWNp2"
   },
   "source": [
    "You need to answer the following questions in a markdown cell after this cell:\n",
    "\n",
    "3.2.1 How much did you manage to improve performance on the test set compared to part 2? Did you reach the 75% accuracy for the test in Kaggle? (Please include a screenshot of Kaggle Submission)\n",
    "\n",
    "3.2.2 Please explain in detail how you achieved this and what you did specifically and why you tried this."
   ]
  },
  {
   "cell_type": "markdown",
   "metadata": {
    "id": "aLaBvS8xWNp2"
   },
   "source": [
    "1) We managed to improve performance a significant amount. What was most surprising was that we always thought the neural network would by far surpass the accuracy of any other type of model, and so we initially created our basic LDA just as a dummy essentially. But after its success on the basic solution, we decided to delve deeper and see how far we could push our accuracy. In the end, after solving many, many bugs, we ended up reaching 84% accuracy on Kaggle, as seen below, compared to around 77% on the basic solution.\n",
    "<img src=\"creative_accuracy.png\">"
   ]
  },
  {
   "cell_type": "markdown",
   "metadata": {},
   "source": [
    "2) To do this, we tried a couple of things, but ended up including all but one of them in our basic solution as described above. Thus the only unique element we added was incorporating both graph and 2012 data into our algorithm. We first hypothesized that the way surrounding counties voted would probably affect the way the county itself voted. Additionally, we also realized that the *number* of neighboring counties might also give us useful information, since many GOP counties tend to be square-shaped (thus having only 4 neighbors) whereas DEM counties might have weird squiggles and curves and thus would have more neighbors. To implement this, we added two new features: `avg_neighbor` and `num_neighbors`.\n",
    "\n",
    "`num_neighbors` is simply the number of neighbors listed in the graph.csv file. If you look at our code, we had to do an awkward array concatenation since the CSV file could have the given county in either column. Additionally, we had to make sure to remove the county itself from that list, as it was (for some reason) listed as one of its own neighbors. This interestingly gave us a significant bug wherein we were getting around 97% accuracy on our validation but only 73% on Kaggle, but eventually this bug was spotted and the county itself was discarded from computation.\n",
    "\n",
    "`avg_neighbor` is the average prediction of the given county's neighboring counties in either 2016 or 2012. The process was also described above in the code, but we'll explain it here again for ease of the reader. After we had assembled the list of all neighboring county codes, we looked through this list one-by-one and saw whether or not that county was listed in our entire train_2016 dataset. If it was, we added the target 1-0 value to our sum. If it was not in our table, then we looked at the train_2012 dataset, and if it was there, we added that target value to our sum. If it was not there, we did nothing. After we had collected this sum, we divided it by the number of counties found (in either 2016 or 2012 data) to obtain our average neighbor target value. So if all of a given county's neighbors voted democratic in 2016, then its average neighbor score would be 1.\n",
    "Note that this does not actually cause data-leakage into our validation set as we never use the target information of a training example itself, only of its neighbors.\n",
    "\n",
    "To summarize: we had hypotheses about two things that would probably be good features for our dataset, so we added them. We only resorted to using the 2012 dataset when we absolutely had to, i.e. the given county was not available in our 2016 sample. Other than that, we figured adding the 2012 dataset as a whole might bias our predictions a great deal, since we know from experience that voting lines changed a great deal between 2012 and 2016.\n",
    "\n",
    "After we assembled lists of each of these features, we added them to their respective dataframes, and normalized the data with a standard scaler as before. Surprisingly enough, adding just these two features managed to increase our prediction score by 7% or so. "
   ]
  },
  {
   "cell_type": "markdown",
   "metadata": {
    "id": "BEPzXDJKWNp2"
   },
   "source": [
    "<h2>Part 4: Kaggle Submission</h2><p>\n",
    "You need to generate a prediction CSV using the following cell from your trained model and submit the direct output of your code to Kaggle. The CSV shall contain TWO column named exactly \"FIPS\" and \"Result\" and 1555 total rows excluding the column names, \"FIPS\" column shall contain FIPS of counties with same order as in the test_2016_no_label.csv while \"Result\" column shall contain the 0 or 1 prdicaitons for corresponding columns. A sample predication file can be downloaded from Kaggle."
   ]
  },
  {
   "cell_type": "code",
   "execution_count": 15,
   "metadata": {},
   "outputs": [
    {
     "data": {
      "text/html": [
       "<div>\n",
       "<style scoped>\n",
       "    .dataframe tbody tr th:only-of-type {\n",
       "        vertical-align: middle;\n",
       "    }\n",
       "\n",
       "    .dataframe tbody tr th {\n",
       "        vertical-align: top;\n",
       "    }\n",
       "\n",
       "    .dataframe thead th {\n",
       "        text-align: right;\n",
       "    }\n",
       "</style>\n",
       "<table border=\"1\" class=\"dataframe\">\n",
       "  <thead>\n",
       "    <tr style=\"text-align: right;\">\n",
       "      <th></th>\n",
       "      <th>FIPS</th>\n",
       "      <th>MedianIncome</th>\n",
       "      <th>MigraRate</th>\n",
       "      <th>BirthRate</th>\n",
       "      <th>DeathRate</th>\n",
       "      <th>BachelorRate</th>\n",
       "      <th>UnemploymentRate</th>\n",
       "      <th>state</th>\n",
       "    </tr>\n",
       "  </thead>\n",
       "  <tbody>\n",
       "    <tr>\n",
       "      <th>0</th>\n",
       "      <td>17059</td>\n",
       "      <td>-0.792528</td>\n",
       "      <td>-0.830543</td>\n",
       "      <td>-0.322092</td>\n",
       "      <td>0.576340</td>\n",
       "      <td>-1.250856</td>\n",
       "      <td>1.356333</td>\n",
       "      <td>-1.428490</td>\n",
       "    </tr>\n",
       "    <tr>\n",
       "      <th>1</th>\n",
       "      <td>6103</td>\n",
       "      <td>-0.716508</td>\n",
       "      <td>0.179200</td>\n",
       "      <td>0.481281</td>\n",
       "      <td>-0.156827</td>\n",
       "      <td>-0.646127</td>\n",
       "      <td>1.078656</td>\n",
       "      <td>-1.345683</td>\n",
       "    </tr>\n",
       "    <tr>\n",
       "      <th>2</th>\n",
       "      <td>42047</td>\n",
       "      <td>-0.021935</td>\n",
       "      <td>-0.724683</td>\n",
       "      <td>-0.763947</td>\n",
       "      <td>0.750904</td>\n",
       "      <td>-0.311366</td>\n",
       "      <td>0.190088</td>\n",
       "      <td>-1.262876</td>\n",
       "    </tr>\n",
       "    <tr>\n",
       "      <th>3</th>\n",
       "      <td>47147</td>\n",
       "      <td>0.714525</td>\n",
       "      <td>0.635214</td>\n",
       "      <td>0.441113</td>\n",
       "      <td>-0.401215</td>\n",
       "      <td>-0.311366</td>\n",
       "      <td>-0.587408</td>\n",
       "      <td>-1.180069</td>\n",
       "    </tr>\n",
       "    <tr>\n",
       "      <th>4</th>\n",
       "      <td>39039</td>\n",
       "      <td>0.212761</td>\n",
       "      <td>-0.398959</td>\n",
       "      <td>-0.201586</td>\n",
       "      <td>-0.226652</td>\n",
       "      <td>-0.516542</td>\n",
       "      <td>-0.143124</td>\n",
       "      <td>-1.097261</td>\n",
       "    </tr>\n",
       "  </tbody>\n",
       "</table>\n",
       "</div>"
      ],
      "text/plain": [
       "    FIPS  MedianIncome  MigraRate  BirthRate  DeathRate  BachelorRate  \\\n",
       "0  17059     -0.792528  -0.830543  -0.322092   0.576340     -1.250856   \n",
       "1   6103     -0.716508   0.179200   0.481281  -0.156827     -0.646127   \n",
       "2  42047     -0.021935  -0.724683  -0.763947   0.750904     -0.311366   \n",
       "3  47147      0.714525   0.635214   0.441113  -0.401215     -0.311366   \n",
       "4  39039      0.212761  -0.398959  -0.201586  -0.226652     -0.516542   \n",
       "\n",
       "   UnemploymentRate     state  \n",
       "0          1.356333 -1.428490  \n",
       "1          1.078656 -1.345683  \n",
       "2          0.190088 -1.262876  \n",
       "3         -0.587408 -1.180069  \n",
       "4         -0.143124 -1.097261  "
      ]
     },
     "execution_count": 15,
     "metadata": {},
     "output_type": "execute_result"
    }
   ],
   "source": [
    "# First examine previously trained test set to ensure all correct features are there and in the proper order\n",
    "test.head() "
   ]
  },
  {
   "cell_type": "code",
   "execution_count": 16,
   "metadata": {},
   "outputs": [
    {
     "data": {
      "text/html": [
       "<div>\n",
       "<style scoped>\n",
       "    .dataframe tbody tr th:only-of-type {\n",
       "        vertical-align: middle;\n",
       "    }\n",
       "\n",
       "    .dataframe tbody tr th {\n",
       "        vertical-align: top;\n",
       "    }\n",
       "\n",
       "    .dataframe thead th {\n",
       "        text-align: right;\n",
       "    }\n",
       "</style>\n",
       "<table border=\"1\" class=\"dataframe\">\n",
       "  <thead>\n",
       "    <tr style=\"text-align: right;\">\n",
       "      <th></th>\n",
       "      <th>FIPS</th>\n",
       "      <th>MedianIncome</th>\n",
       "      <th>MigraRate</th>\n",
       "      <th>BirthRate</th>\n",
       "      <th>DeathRate</th>\n",
       "      <th>BachelorRate</th>\n",
       "      <th>UnemploymentRate</th>\n",
       "      <th>avg_neighbor</th>\n",
       "      <th>num_neighbors</th>\n",
       "      <th>state</th>\n",
       "    </tr>\n",
       "  </thead>\n",
       "  <tbody>\n",
       "    <tr>\n",
       "      <th>0</th>\n",
       "      <td>17059</td>\n",
       "      <td>-0.779562</td>\n",
       "      <td>-0.872918</td>\n",
       "      <td>-0.299397</td>\n",
       "      <td>0.576929</td>\n",
       "      <td>-1.244546</td>\n",
       "      <td>1.260239</td>\n",
       "      <td>-0.496512</td>\n",
       "      <td>0.036108</td>\n",
       "      <td>-1.588252</td>\n",
       "    </tr>\n",
       "    <tr>\n",
       "      <th>1</th>\n",
       "      <td>6103</td>\n",
       "      <td>-0.703600</td>\n",
       "      <td>0.149418</td>\n",
       "      <td>0.503297</td>\n",
       "      <td>-0.165519</td>\n",
       "      <td>-0.635774</td>\n",
       "      <td>0.996701</td>\n",
       "      <td>-0.496512</td>\n",
       "      <td>0.036108</td>\n",
       "      <td>-1.503646</td>\n",
       "    </tr>\n",
       "    <tr>\n",
       "      <th>2</th>\n",
       "      <td>42047</td>\n",
       "      <td>-0.009560</td>\n",
       "      <td>-0.765738</td>\n",
       "      <td>-0.740879</td>\n",
       "      <td>0.753702</td>\n",
       "      <td>-0.298776</td>\n",
       "      <td>0.153378</td>\n",
       "      <td>-0.496512</td>\n",
       "      <td>0.036108</td>\n",
       "      <td>-1.419041</td>\n",
       "    </tr>\n",
       "    <tr>\n",
       "      <th>3</th>\n",
       "      <td>47147</td>\n",
       "      <td>0.726334</td>\n",
       "      <td>0.611117</td>\n",
       "      <td>0.463162</td>\n",
       "      <td>-0.413002</td>\n",
       "      <td>-0.298776</td>\n",
       "      <td>-0.584530</td>\n",
       "      <td>-0.496512</td>\n",
       "      <td>0.797442</td>\n",
       "      <td>-1.334436</td>\n",
       "    </tr>\n",
       "    <tr>\n",
       "      <th>4</th>\n",
       "      <td>39039</td>\n",
       "      <td>0.224955</td>\n",
       "      <td>-0.435952</td>\n",
       "      <td>-0.178993</td>\n",
       "      <td>-0.236228</td>\n",
       "      <td>-0.505323</td>\n",
       "      <td>-0.162868</td>\n",
       "      <td>-0.496512</td>\n",
       "      <td>0.036108</td>\n",
       "      <td>-1.249831</td>\n",
       "    </tr>\n",
       "  </tbody>\n",
       "</table>\n",
       "</div>"
      ],
      "text/plain": [
       "    FIPS  MedianIncome  MigraRate  BirthRate  DeathRate  BachelorRate  \\\n",
       "0  17059     -0.779562  -0.872918  -0.299397   0.576929     -1.244546   \n",
       "1   6103     -0.703600   0.149418   0.503297  -0.165519     -0.635774   \n",
       "2  42047     -0.009560  -0.765738  -0.740879   0.753702     -0.298776   \n",
       "3  47147      0.726334   0.611117   0.463162  -0.413002     -0.298776   \n",
       "4  39039      0.224955  -0.435952  -0.178993  -0.236228     -0.505323   \n",
       "\n",
       "   UnemploymentRate  avg_neighbor  num_neighbors     state  \n",
       "0          1.260239     -0.496512       0.036108 -1.588252  \n",
       "1          0.996701     -0.496512       0.036108 -1.503646  \n",
       "2          0.153378     -0.496512       0.036108 -1.419041  \n",
       "3         -0.584530     -0.496512       0.797442 -1.334436  \n",
       "4         -0.162868     -0.496512       0.036108 -1.249831  "
      ]
     },
     "execution_count": 16,
     "metadata": {},
     "output_type": "execute_result"
    }
   ],
   "source": [
    "test_creative.head()"
   ]
  },
  {
   "cell_type": "code",
   "execution_count": 17,
   "metadata": {},
   "outputs": [],
   "source": [
    "def save_to_csv(fname, preds):\n",
    "    outputdf = pd.DataFrame(test[\"FIPS\"]) # Create dataframe with one column of FIPS county codes\n",
    "    outputdf['Result'] = preds # Use our previously trained LDA to predict election result\n",
    "    # Then view the percentage of 1s predicted to ensure its not astronomically different from the number of \n",
    "    # 1s predicted on our training or validation sets, and thus reinforce our hypothesis that LDA is an accurate\n",
    "    # tool for modeling this data.\n",
    "    print(\"Percentage of 1s predicted:\",np.count_nonzero(outputdf['Result']) / len(outputdf['Result']))\n",
    "    outputdf.to_csv('4780PredictionsCreativeLDA', index = False) # Save information in this file"
   ]
  },
  {
   "cell_type": "code",
   "execution_count": 18,
   "metadata": {},
   "outputs": [
    {
     "name": "stdout",
     "output_type": "stream",
     "text": [
      "(creative LDA)\n",
      "Percentage of 1s predicted: 0.23665594855305466\n",
      "(basic LDA)\n",
      "Percentage of 1s predicted: 0.2135048231511254\n",
      "(basic NN)\n"
     ]
    }
   ],
   "source": [
    "test_features = test[test.columns[1:]] # Extract features from test set\n",
    "test_features_creative = test_creative[test_creative.columns[1:]] # Extract features from test set\n",
    "print(\"(creative LDA)\")\n",
    "save_to_csv(\"CreativeLDA\",lda_creative.predict(test_features_creative))\n",
    "print(\"(basic LDA)\")\n",
    "save_to_csv(\"BasicLDA\",lda_basic.predict(test_features))\n",
    "print(\"(basic NN)\")\n",
    "# save_to_csv(\"BasicNN\",) TBDBTBDBDBDBDBBD"
   ]
  },
  {
   "cell_type": "markdown",
   "metadata": {
    "id": "pTXmf-A4WNp2"
   },
   "source": [
    "<h2>Part 5: Resources and Literature Used</h2><p>"
   ]
  },
  {
   "cell_type": "markdown",
   "metadata": {
    "id": "gQ33BTvJWNp2"
   },
   "source": [
    "We only used stackoverflow and documentation. **POTENTIALLLY NN EXAMPLE @ANTHONY??**"
   ]
  },
  {
   "cell_type": "code",
   "execution_count": null,
   "metadata": {},
   "outputs": [],
   "source": []
  }
 ],
 "metadata": {
  "colab": {
   "collapsed_sections": [],
   "name": "CS 4780 Final Project Student Template.ipynb",
   "provenance": []
  },
  "kernelspec": {
   "display_name": "Python 3",
   "language": "python",
   "name": "python3"
  },
  "language_info": {
   "codemirror_mode": {
    "name": "ipython",
    "version": 3
   },
   "file_extension": ".py",
   "mimetype": "text/x-python",
   "name": "python",
   "nbconvert_exporter": "python",
   "pygments_lexer": "ipython3",
   "version": "3.8.5"
  }
 },
 "nbformat": 4,
 "nbformat_minor": 1
}
