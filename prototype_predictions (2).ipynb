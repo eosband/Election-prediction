{
 "cells": [
  {
   "cell_type": "markdown",
   "metadata": {
    "id": "gVj1JpqUWNp1"
   },
   "source": [
    "<h2>CS 4780/5780 Final Project: </h2>\n",
    "<h3>Election Result Prediction for US Counties</h3>\n",
    "\n",
    "Names and NetIDs for your group members: Eric Osband (eo255), Anthony Cuturuffo (acc284), Eddie Freedman (ebf45???)"
   ]
  },
  {
   "cell_type": "code",
   "execution_count": null,
   "metadata": {
    "id": "ngBdZrR4QXJn"
   },
   "outputs": [],
   "source": [
    "from google.colab import drive\n",
    "drive.mount('/content/drive')"
   ]
  },
  {
   "cell_type": "markdown",
   "metadata": {
    "id": "H4Y-2-S5WNp1"
   },
   "source": [
    "<h3>Introduction:</h3>\n",
    "\n",
    "<p> The final project is about conducting a real-world machine learning project on your own, with everything that is involved. Unlike in the programming projects 1-5, where we gave you all the scaffolding and you just filled in the blanks, you now start from scratch. The programming project provide templates for how to do this, and the most recent video lectures summarize some of the tricks you will need (e.g. feature normalization, feature construction). So, this final project brings realism to how you will use machine learning in the real world.  </p>\n",
    "\n",
    "The task you will work on is forecasting election results. Economic and sociological factors have been widely used when making predictions on the voting results of US elections. Economic and sociological factors vary a lot among counties in the United States. In addition, as you may observe from the election map of recent elections, neighbor counties show similar patterns in terms of the voting results. In this project you will bring the power of machine learning to make predictions for the county-level election results using Economic and sociological factors and the geographic structure of US counties. </p>\n",
    "<p>\n",
    "\n",
    "<h3>Your Task:</h3>\n",
    "Plase read the project description PDF file carefully and make sure you write your code and answers to all the questions in this Jupyter Notebook. Your answers to the questions are a large portion of your grade for this final project. Please import the packages in this notebook and cite any references you used as mentioned in the project description. You need to print this entire Jupyter Notebook as a PDF file and submit to Gradescope and also submit the ipynb runnable version to Canvas for us to run.\n",
    "\n",
    "<h3>Due Date:</h3>\n",
    "The final project dataset and template jupyter notebook will be due on <strong>December 15th</strong> . Note that <strong>no late submissions will be accepted</strong>  and you cannot use any of your unused slip days before.\n",
    "</p>"
   ]
  },
  {
   "cell_type": "markdown",
   "metadata": {
    "id": "Jjwk83POWNp1"
   },
   "source": [
    "![image.png; width=\"100\";](attachment:image.png)"
   ]
  },
  {
   "cell_type": "markdown",
   "metadata": {
    "id": "PdQ0GV-eWNp1"
   },
   "source": [
    "<h2>Part 1: Basics</h2><p>"
   ]
  },
  {
   "cell_type": "markdown",
   "metadata": {
    "id": "VFL54oJVWNp1"
   },
   "source": [
    "<h3>1.1 Import:</h3><p>\n",
    "Please import necessary packages to use. Note that learning and using packages are recommended but not required for this project. Some official tutorial for suggested packacges includes:\n",
    "    \n",
    "https://scikit-learn.org/stable/tutorial/basic/tutorial.html\n",
    "    \n",
    "https://pytorch.org/tutorials/\n",
    "    \n",
    "https://pandas.pydata.org/pandas-docs/stable/user_guide/10min.html\n",
    "<p>"
   ]
  },
  {
   "cell_type": "markdown",
   "metadata": {},
   "source": [
    "FROM ERIC: To download PyTorch, run the following\n",
    "\n",
    "<code>conda install pytorch torchvision -c pytorch</code>"
   ]
  },
  {
   "cell_type": "code",
   "execution_count": 1,
   "metadata": {
    "id": "mQDt73qwWNp1"
   },
   "outputs": [],
   "source": [
    "import os\n",
    "import pandas as pd\n",
    "import numpy as np\n",
    "# TODO\n",
    "from sklearn.preprocessing import StandardScaler"
   ]
  },
  {
   "cell_type": "markdown",
   "metadata": {
    "id": "QJGUskA_WNp1"
   },
   "source": [
    "<h3>1.2 Weighted Accuracy:</h3><p>\n",
    "Since our dataset labels are heavily biased, you need to use the following function to compute weighted accuracy throughout your training and validation process and we use this for testing on Kaggle.\n",
    "<p>"
   ]
  },
  {
   "cell_type": "code",
   "execution_count": 2,
   "metadata": {
    "id": "vz7GtRvuWNp1"
   },
   "outputs": [],
   "source": [
    "def weighted_accuracy(pred, true):\n",
    "    assert(len(pred) == len(true))\n",
    "    num_labels = len(true)\n",
    "    num_pos = sum(true)\n",
    "    num_neg = num_labels - num_pos\n",
    "    frac_pos = num_pos/num_labels\n",
    "    weight_pos = 1/frac_pos\n",
    "    weight_neg = 1/(1-frac_pos)\n",
    "    num_pos_correct = 0\n",
    "    num_neg_correct = 0\n",
    "    for pred_i, true_i in zip(pred, true):\n",
    "        num_pos_correct += (pred_i == true_i and true_i == 1)\n",
    "        num_neg_correct += (pred_i == true_i and true_i == 0)\n",
    "    weighted_accuracy = ((weight_pos * num_pos_correct) \n",
    "                         + (weight_neg * num_neg_correct))/((weight_pos * num_pos) + (weight_neg * num_neg))\n",
    "    return weighted_accuracy"
   ]
  },
  {
   "cell_type": "markdown",
   "metadata": {
    "id": "fd8F4FVTWNp2"
   },
   "source": [
    "<h2>Part 2: Baseline Solution</h2><p>\n",
    "Note that your code should be commented well and in part 2.4 you can refer to your comments. (e.g. # Here is SVM, \n",
    "# Here is validation for SVM, etc). Also, we recommend that you do not to use 2012 dataset and the graph dataset to reach the baseline accuracy for 68% in this part, a basic solution with only 2016 dataset and reasonable model selection will be enough, it will be great if you explore thee graph and possibly 2012 dataset in Part 3."
   ]
  },
  {
   "cell_type": "markdown",
   "metadata": {
    "id": "4STDPiVFWNp2"
   },
   "source": [
    "<h3>2.1 Preprocessing and Feature Extraction:</h3><p>\n",
    "Given the training dataset and graph information, you need to correctly preprocess the dataset (e.g. feature normalization). For baseline solution in this part, you might not need to introduce extra features to reach the baseline test accuracy.\n",
    "<p>"
   ]
  },
  {
   "cell_type": "code",
   "execution_count": 269,
   "metadata": {
    "colab": {
     "base_uri": "https://localhost:8080/",
     "height": 204
    },
    "id": "xW-Vh-OXNbLh",
    "outputId": "c0adfbb9-9605-403f-feac-d2a9ce031d2c"
   },
   "outputs": [
    {
     "data": {
      "text/html": [
       "<div>\n",
       "<style scoped>\n",
       "    .dataframe tbody tr th:only-of-type {\n",
       "        vertical-align: middle;\n",
       "    }\n",
       "\n",
       "    .dataframe tbody tr th {\n",
       "        vertical-align: top;\n",
       "    }\n",
       "\n",
       "    .dataframe thead th {\n",
       "        text-align: right;\n",
       "    }\n",
       "</style>\n",
       "<table border=\"1\" class=\"dataframe\">\n",
       "  <thead>\n",
       "    <tr style=\"text-align: right;\">\n",
       "      <th></th>\n",
       "      <th>FIPS</th>\n",
       "      <th>County</th>\n",
       "      <th>DEM</th>\n",
       "      <th>GOP</th>\n",
       "      <th>MedianIncome</th>\n",
       "      <th>MigraRate</th>\n",
       "      <th>BirthRate</th>\n",
       "      <th>DeathRate</th>\n",
       "      <th>BachelorRate</th>\n",
       "      <th>UnemploymentRate</th>\n",
       "    </tr>\n",
       "  </thead>\n",
       "  <tbody>\n",
       "    <tr>\n",
       "      <th>0</th>\n",
       "      <td>18019</td>\n",
       "      <td>Clark County, IN</td>\n",
       "      <td>18791</td>\n",
       "      <td>30012</td>\n",
       "      <td>51,837</td>\n",
       "      <td>4.9</td>\n",
       "      <td>12.8</td>\n",
       "      <td>11.0</td>\n",
       "      <td>20.9</td>\n",
       "      <td>4.2</td>\n",
       "    </tr>\n",
       "    <tr>\n",
       "      <th>1</th>\n",
       "      <td>6035</td>\n",
       "      <td>Lassen County, CA</td>\n",
       "      <td>2026</td>\n",
       "      <td>6533</td>\n",
       "      <td>49,793</td>\n",
       "      <td>-18.4</td>\n",
       "      <td>9.2</td>\n",
       "      <td>6.3</td>\n",
       "      <td>12.0</td>\n",
       "      <td>6.9</td>\n",
       "    </tr>\n",
       "    <tr>\n",
       "      <th>2</th>\n",
       "      <td>40081</td>\n",
       "      <td>Lincoln County, OK</td>\n",
       "      <td>2423</td>\n",
       "      <td>10838</td>\n",
       "      <td>44,914</td>\n",
       "      <td>-1.3</td>\n",
       "      <td>11.4</td>\n",
       "      <td>11.7</td>\n",
       "      <td>15.1</td>\n",
       "      <td>5.3</td>\n",
       "    </tr>\n",
       "    <tr>\n",
       "      <th>3</th>\n",
       "      <td>31153</td>\n",
       "      <td>Sarpy County, NE</td>\n",
       "      <td>27704</td>\n",
       "      <td>44649</td>\n",
       "      <td>74,374</td>\n",
       "      <td>9.2</td>\n",
       "      <td>14.2</td>\n",
       "      <td>5.0</td>\n",
       "      <td>40.1</td>\n",
       "      <td>2.9</td>\n",
       "    </tr>\n",
       "    <tr>\n",
       "      <th>4</th>\n",
       "      <td>28055</td>\n",
       "      <td>Issaquena County, MS</td>\n",
       "      <td>395</td>\n",
       "      <td>298</td>\n",
       "      <td>26,957</td>\n",
       "      <td>-12.8</td>\n",
       "      <td>9.8</td>\n",
       "      <td>5.3</td>\n",
       "      <td>6.7</td>\n",
       "      <td>14.0</td>\n",
       "    </tr>\n",
       "  </tbody>\n",
       "</table>\n",
       "</div>"
      ],
      "text/plain": [
       "    FIPS                County    DEM    GOP MedianIncome  MigraRate  \\\n",
       "0  18019      Clark County, IN  18791  30012       51,837        4.9   \n",
       "1   6035     Lassen County, CA   2026   6533       49,793      -18.4   \n",
       "2  40081    Lincoln County, OK   2423  10838       44,914       -1.3   \n",
       "3  31153      Sarpy County, NE  27704  44649       74,374        9.2   \n",
       "4  28055  Issaquena County, MS    395    298       26,957      -12.8   \n",
       "\n",
       "   BirthRate  DeathRate  BachelorRate  UnemploymentRate  \n",
       "0       12.8       11.0          20.9               4.2  \n",
       "1        9.2        6.3          12.0               6.9  \n",
       "2       11.4       11.7          15.1               5.3  \n",
       "3       14.2        5.0          40.1               2.9  \n",
       "4        9.8        5.3           6.7              14.0  "
      ]
     },
     "execution_count": 269,
     "metadata": {},
     "output_type": "execute_result"
    }
   ],
   "source": [
    "# You may change this but we suggest loading data with the following code and you may need to change\n",
    "# datatypes and do necessary data transformation after loading the raw data to the dataframe.\n",
    "dataset_path = \"./train_2016.csv\"\n",
    "# df = pd.read_csv(dataset_path, sep=',',header=None, encoding='unicode_escape')\n",
    "\n",
    "# Chose to include header to remember column identifiers\n",
    "df = pd.read_csv(dataset_path, sep=',', encoding='unicode_escape')\n",
    "# Have a quick look at the head of this dataset\n",
    "df.head()"
   ]
  },
  {
   "cell_type": "code",
   "execution_count": 270,
   "metadata": {
    "colab": {
     "base_uri": "https://localhost:8080/",
     "height": 375
    },
    "id": "O7bsqEl8WNp2",
    "outputId": "8fa672e5-45b1-4982-f259-1ffe5710947d"
   },
   "outputs": [
    {
     "data": {
      "text/html": [
       "<div>\n",
       "<style scoped>\n",
       "    .dataframe tbody tr th:only-of-type {\n",
       "        vertical-align: middle;\n",
       "    }\n",
       "\n",
       "    .dataframe tbody tr th {\n",
       "        vertical-align: top;\n",
       "    }\n",
       "\n",
       "    .dataframe thead th {\n",
       "        text-align: right;\n",
       "    }\n",
       "</style>\n",
       "<table border=\"1\" class=\"dataframe\">\n",
       "  <thead>\n",
       "    <tr style=\"text-align: right;\">\n",
       "      <th></th>\n",
       "      <th>FIPS</th>\n",
       "      <th>MedianIncome</th>\n",
       "      <th>MigraRate</th>\n",
       "      <th>BirthRate</th>\n",
       "      <th>DeathRate</th>\n",
       "      <th>BachelorRate</th>\n",
       "      <th>UnemploymentRate</th>\n",
       "      <th>state</th>\n",
       "      <th>target</th>\n",
       "    </tr>\n",
       "  </thead>\n",
       "  <tbody>\n",
       "    <tr>\n",
       "      <th>0</th>\n",
       "      <td>18019</td>\n",
       "      <td>0.188697</td>\n",
       "      <td>0.416162</td>\n",
       "      <td>0.502519</td>\n",
       "      <td>0.056358</td>\n",
       "      <td>-0.065012</td>\n",
       "      <td>-0.518119</td>\n",
       "      <td>-1.533460</td>\n",
       "      <td>0</td>\n",
       "    </tr>\n",
       "    <tr>\n",
       "      <th>1</th>\n",
       "      <td>6035</td>\n",
       "      <td>0.025339</td>\n",
       "      <td>-1.459045</td>\n",
       "      <td>-0.959060</td>\n",
       "      <td>-1.611216</td>\n",
       "      <td>-1.026568</td>\n",
       "      <td>0.943105</td>\n",
       "      <td>-1.450494</td>\n",
       "      <td>0</td>\n",
       "    </tr>\n",
       "    <tr>\n",
       "      <th>2</th>\n",
       "      <td>40081</td>\n",
       "      <td>-0.364594</td>\n",
       "      <td>-0.082820</td>\n",
       "      <td>-0.065873</td>\n",
       "      <td>0.304720</td>\n",
       "      <td>-0.691644</td>\n",
       "      <td>0.077194</td>\n",
       "      <td>-1.367528</td>\n",
       "      <td>0</td>\n",
       "    </tr>\n",
       "    <tr>\n",
       "      <th>3</th>\n",
       "      <td>31153</td>\n",
       "      <td>1.989870</td>\n",
       "      <td>0.762230</td>\n",
       "      <td>1.070911</td>\n",
       "      <td>-2.072460</td>\n",
       "      <td>2.009357</td>\n",
       "      <td>-1.221672</td>\n",
       "      <td>-1.284562</td>\n",
       "      <td>0</td>\n",
       "    </tr>\n",
       "    <tr>\n",
       "      <th>4</th>\n",
       "      <td>28055</td>\n",
       "      <td>-1.799729</td>\n",
       "      <td>-1.008352</td>\n",
       "      <td>-0.715463</td>\n",
       "      <td>-1.966019</td>\n",
       "      <td>-1.599180</td>\n",
       "      <td>4.785582</td>\n",
       "      <td>-1.201596</td>\n",
       "      <td>1</td>\n",
       "    </tr>\n",
       "  </tbody>\n",
       "</table>\n",
       "</div>"
      ],
      "text/plain": [
       "    FIPS  MedianIncome  MigraRate  BirthRate  DeathRate  BachelorRate  \\\n",
       "0  18019      0.188697   0.416162   0.502519   0.056358     -0.065012   \n",
       "1   6035      0.025339  -1.459045  -0.959060  -1.611216     -1.026568   \n",
       "2  40081     -0.364594  -0.082820  -0.065873   0.304720     -0.691644   \n",
       "3  31153      1.989870   0.762230   1.070911  -2.072460      2.009357   \n",
       "4  28055     -1.799729  -1.008352  -0.715463  -1.966019     -1.599180   \n",
       "\n",
       "   UnemploymentRate     state  target  \n",
       "0         -0.518119 -1.533460       0  \n",
       "1          0.943105 -1.450494       0  \n",
       "2          0.077194 -1.367528       0  \n",
       "3         -1.221672 -1.284562       0  \n",
       "4          4.785582 -1.201596       1  "
      ]
     },
     "execution_count": 270,
     "metadata": {},
     "output_type": "execute_result"
    }
   ],
   "source": [
    "df2 = df.copy()\n",
    "# Create feature representing state number\n",
    "\n",
    "# Gets state initials from a county string\n",
    "get_state_from_county = lambda county : county[county.index(\",\") + 2:]\n",
    "\n",
    "df[\"state_name\"] = df[\"County\"].apply(get_state_from_county)\n",
    "states = df[\"state_name\"].unique().tolist()\n",
    "\n",
    "#one-hot encode state data\n",
    "#onehot = pd.get_dummies(df[\"state_name\"], prefix = None)\n",
    "#df[onehot.columns] = onehot\n",
    "\n",
    "get_id_from_state = lambda state : states.index(state)\n",
    "df[\"state\"] = df[\"state_name\"].apply(get_id_from_state)\n",
    "\n",
    "# Create a target prediction column that is 1 if DEM score strictly greater than GOP score\n",
    "target = \"target\"\n",
    "df[target] = (df[\"DEM\"] > df[\"GOP\"]).astype(int)\n",
    "\n",
    "# Get rid of all commas in MedianIncome column\n",
    "df['MedianIncome']=df['MedianIncome'].str.replace(',','').astype(int)\n",
    "\n",
    "# Get rid of county, state_name, DEM and GOP columns\n",
    "df = df.drop(columns = [\"County\", \"DEM\", \"GOP\", 'state_name'])\n",
    "\n",
    "\n",
    "# Get a list of all column names\n",
    "columns = ['MedianIncome', 'MigraRate', 'BirthRate', 'DeathRate', 'BachelorRate', 'UnemploymentRate', 'state']\n",
    "# Remove targets + ID from training columns, without dropping them from dataset\n",
    "# Now df[columns] will have the dataframe but with only the feature columns\n",
    "# and df[target] will have the prediction labels\n",
    "\n",
    "\n",
    "std_scaler = StandardScaler()\n",
    "std_scaler.fit(df[columns])\n",
    "df[columns] = std_scaler.transform(df[columns])\n",
    "\n",
    "\n",
    "df.head()\n",
    "\n",
    "# Make sure you comment your code clearly and you may refer to these comments in the part 2.4\n",
    "# TODO"
   ]
  },
  {
   "cell_type": "markdown",
   "metadata": {
    "id": "UG-1TlocWNp2"
   },
   "source": [
    "<h3>2.2 Use At Least Two Training Algorithms from class:</h3><p>\n",
    "You need to use at least two training algorithms from class. You can use your code from previous projects or any packages you imported in part 1.1."
   ]
  },
  {
   "cell_type": "code",
   "execution_count": 272,
   "metadata": {
    "id": "DE0InbZ7WNp2"
   },
   "outputs": [],
   "source": [
    "# Make sure you comment your code clearly and you may refer to these comments in the part 2.4\n",
    "# TODO\n",
    "from sklearn.discriminant_analysis import LinearDiscriminantAnalysis\n",
    "from sklearn import svm\n",
    "from sklearn.model_selection import train_test_split, cross_validate\n",
    "from sklearn.metrics import make_scorer\n",
    "\n",
    "lda = LinearDiscriminantAnalysis()\n",
    "labels = df['target']\n",
    "features = df[df.columns[1:-1]]\n",
    "\n",
    "x_train, x_test, y_train, y_test = train_test_split(features, labels, test_size = 0.2)"
   ]
  },
  {
   "cell_type": "code",
   "execution_count": 273,
   "metadata": {},
   "outputs": [
    {
     "data": {
      "text/plain": [
       "{'fit_time': array([0.00588584, 0.00443316, 0.00617313, 0.00493717, 0.00421596]),\n",
       " 'score_time': array([0.00481892, 0.00436282, 0.00619102, 0.00324488, 0.00462604]),\n",
       " 'estimator': (LinearDiscriminantAnalysis(),\n",
       "  LinearDiscriminantAnalysis(),\n",
       "  LinearDiscriminantAnalysis(),\n",
       "  LinearDiscriminantAnalysis(),\n",
       "  LinearDiscriminantAnalysis()),\n",
       " 'test_score': array([0.77027778, 0.77982143, 0.9389016 , 0.76510989, 0.79509002])}"
      ]
     },
     "execution_count": 273,
     "metadata": {},
     "output_type": "execute_result"
    }
   ],
   "source": [
    "scores = cross_validate(lda, x_train, y_train, scoring = make_scorer(weighted_accuracy), return_estimator = True)\n",
    "scores"
   ]
  },
  {
   "cell_type": "code",
   "execution_count": 274,
   "metadata": {},
   "outputs": [
    {
     "name": "stdout",
     "output_type": "stream",
     "text": [
      "0.6927170868347339\n"
     ]
    }
   ],
   "source": [
    "lda_best = scores['estimator'][2]\n",
    "y_pred =lda_best.predict(x_test)\n",
    "print(weighted_accuracy(y_pred, y_test))"
   ]
  },
  {
   "cell_type": "code",
   "execution_count": 275,
   "metadata": {},
   "outputs": [
    {
     "data": {
      "text/html": [
       "<div>\n",
       "<style scoped>\n",
       "    .dataframe tbody tr th:only-of-type {\n",
       "        vertical-align: middle;\n",
       "    }\n",
       "\n",
       "    .dataframe tbody tr th {\n",
       "        vertical-align: top;\n",
       "    }\n",
       "\n",
       "    .dataframe thead th {\n",
       "        text-align: right;\n",
       "    }\n",
       "</style>\n",
       "<table border=\"1\" class=\"dataframe\">\n",
       "  <thead>\n",
       "    <tr style=\"text-align: right;\">\n",
       "      <th></th>\n",
       "      <th>FIPS</th>\n",
       "      <th>MedianIncome</th>\n",
       "      <th>MigraRate</th>\n",
       "      <th>BirthRate</th>\n",
       "      <th>DeathRate</th>\n",
       "      <th>BachelorRate</th>\n",
       "      <th>UnemploymentRate</th>\n",
       "      <th>state</th>\n",
       "    </tr>\n",
       "  </thead>\n",
       "  <tbody>\n",
       "    <tr>\n",
       "      <th>0</th>\n",
       "      <td>17059</td>\n",
       "      <td>-0.786575</td>\n",
       "      <td>-0.831293</td>\n",
       "      <td>-0.309469</td>\n",
       "      <td>0.588562</td>\n",
       "      <td>-1.253452</td>\n",
       "      <td>1.321940</td>\n",
       "      <td>-1.533460</td>\n",
       "    </tr>\n",
       "    <tr>\n",
       "      <th>1</th>\n",
       "      <td>6103</td>\n",
       "      <td>-0.710570</td>\n",
       "      <td>0.166671</td>\n",
       "      <td>0.502519</td>\n",
       "      <td>-0.156524</td>\n",
       "      <td>-0.648428</td>\n",
       "      <td>1.051343</td>\n",
       "      <td>-1.450494</td>\n",
       "    </tr>\n",
       "    <tr>\n",
       "      <th>2</th>\n",
       "      <td>42047</td>\n",
       "      <td>-0.016139</td>\n",
       "      <td>-0.726668</td>\n",
       "      <td>-0.756063</td>\n",
       "      <td>0.765964</td>\n",
       "      <td>-0.313504</td>\n",
       "      <td>0.185433</td>\n",
       "      <td>-1.367528</td>\n",
       "    </tr>\n",
       "    <tr>\n",
       "      <th>3</th>\n",
       "      <td>47147</td>\n",
       "      <td>0.720170</td>\n",
       "      <td>0.617364</td>\n",
       "      <td>0.461919</td>\n",
       "      <td>-0.404886</td>\n",
       "      <td>-0.313504</td>\n",
       "      <td>-0.572239</td>\n",
       "      <td>-1.284562</td>\n",
       "    </tr>\n",
       "    <tr>\n",
       "      <th>4</th>\n",
       "      <td>39039</td>\n",
       "      <td>0.218508</td>\n",
       "      <td>-0.404744</td>\n",
       "      <td>-0.187671</td>\n",
       "      <td>-0.227485</td>\n",
       "      <td>-0.518780</td>\n",
       "      <td>-0.139283</td>\n",
       "      <td>-1.201596</td>\n",
       "    </tr>\n",
       "  </tbody>\n",
       "</table>\n",
       "</div>"
      ],
      "text/plain": [
       "    FIPS  MedianIncome  MigraRate  BirthRate  DeathRate  BachelorRate  \\\n",
       "0  17059     -0.786575  -0.831293  -0.309469   0.588562     -1.253452   \n",
       "1   6103     -0.710570   0.166671   0.502519  -0.156524     -0.648428   \n",
       "2  42047     -0.016139  -0.726668  -0.756063   0.765964     -0.313504   \n",
       "3  47147      0.720170   0.617364   0.461919  -0.404886     -0.313504   \n",
       "4  39039      0.218508  -0.404744  -0.187671  -0.227485     -0.518780   \n",
       "\n",
       "   UnemploymentRate     state  \n",
       "0          1.321940 -1.533460  \n",
       "1          1.051343 -1.450494  \n",
       "2          0.185433 -1.367528  \n",
       "3         -0.572239 -1.284562  \n",
       "4         -0.139283 -1.201596  "
      ]
     },
     "execution_count": 275,
     "metadata": {},
     "output_type": "execute_result"
    }
   ],
   "source": [
    "test = pd.read_csv(\"test_2016_no_label.csv\")\n",
    "\n",
    "get_state_from_county = lambda county : county[county.index(\",\") + 2:]\n",
    "\n",
    "test[\"state_name\"] = test[\"County\"].apply(get_state_from_county)\n",
    "states = test[\"state_name\"].unique().tolist()\n",
    "\n",
    "#one-hot encode state data\n",
    "#for state in onehot.columns:\n",
    "    #test['state'] = (test[\"state_name\"] == state).astype(int)\n",
    "get_id_from_state = lambda state : states.index(state)\n",
    "test[\"state\"] = test[\"state_name\"].apply(get_id_from_state)\n",
    "\n",
    "# Get rid of all commas in MedianIncome column\n",
    "test['MedianIncome']=test['MedianIncome'].str.replace(',','').astype(int)\n",
    "\n",
    "# Get rid of county, state_name, DEM and GOP columns\n",
    "test.drop(columns = [\"County\", \"state_name\"], inplace = True)\n",
    "\n",
    "\n",
    "# Get a list of all column names\n",
    "columns = ['MedianIncome', 'MigraRate', 'BirthRate', 'DeathRate', 'BachelorRate', 'UnemploymentRate', 'state']\n",
    "# Remove targets + ID from training columns, without dropping them from dataset\n",
    "# Now df[columns] will have the dataframe but with only the feature columns\n",
    "# and df[target] will have the prediction labels\n",
    "\n",
    "test[columns] = std_scaler.transform(test[columns])\n",
    "\n",
    "test.head()"
   ]
  },
  {
   "cell_type": "code",
   "execution_count": 276,
   "metadata": {},
   "outputs": [
    {
     "data": {
      "text/html": [
       "<div>\n",
       "<style scoped>\n",
       "    .dataframe tbody tr th:only-of-type {\n",
       "        vertical-align: middle;\n",
       "    }\n",
       "\n",
       "    .dataframe tbody tr th {\n",
       "        vertical-align: top;\n",
       "    }\n",
       "\n",
       "    .dataframe thead th {\n",
       "        text-align: right;\n",
       "    }\n",
       "</style>\n",
       "<table border=\"1\" class=\"dataframe\">\n",
       "  <thead>\n",
       "    <tr style=\"text-align: right;\">\n",
       "      <th></th>\n",
       "      <th>FIPS</th>\n",
       "      <th>Result</th>\n",
       "    </tr>\n",
       "  </thead>\n",
       "  <tbody>\n",
       "    <tr>\n",
       "      <th>0</th>\n",
       "      <td>17059</td>\n",
       "      <td>0</td>\n",
       "    </tr>\n",
       "    <tr>\n",
       "      <th>1</th>\n",
       "      <td>6103</td>\n",
       "      <td>0</td>\n",
       "    </tr>\n",
       "    <tr>\n",
       "      <th>2</th>\n",
       "      <td>42047</td>\n",
       "      <td>0</td>\n",
       "    </tr>\n",
       "    <tr>\n",
       "      <th>3</th>\n",
       "      <td>47147</td>\n",
       "      <td>0</td>\n",
       "    </tr>\n",
       "    <tr>\n",
       "      <th>4</th>\n",
       "      <td>39039</td>\n",
       "      <td>0</td>\n",
       "    </tr>\n",
       "  </tbody>\n",
       "</table>\n",
       "</div>"
      ],
      "text/plain": [
       "    FIPS  Result\n",
       "0  17059       0\n",
       "1   6103       0\n",
       "2  42047       0\n",
       "3  47147       0\n",
       "4  39039       0"
      ]
     },
     "execution_count": 276,
     "metadata": {},
     "output_type": "execute_result"
    }
   ],
   "source": [
    "test_features = test[test.columns[1:]]\n",
    "outputdf = pd.DataFrame(test['FIPS'])\n",
    "outputdf['Result'] = lda_best.predict(test_features)\n",
    "outputdf.head()"
   ]
  },
  {
   "cell_type": "code",
   "execution_count": 235,
   "metadata": {},
   "outputs": [],
   "source": [
    "outputdf.to_csv('4780PredictionsLDA', index = False)"
   ]
  },
  {
   "cell_type": "markdown",
   "metadata": {},
   "source": [
    "## Separating States into Regions"
   ]
  },
  {
   "cell_type": "code",
   "execution_count": 172,
   "metadata": {},
   "outputs": [
    {
     "data": {
      "text/html": [
       "<div>\n",
       "<style scoped>\n",
       "    .dataframe tbody tr th:only-of-type {\n",
       "        vertical-align: middle;\n",
       "    }\n",
       "\n",
       "    .dataframe tbody tr th {\n",
       "        vertical-align: top;\n",
       "    }\n",
       "\n",
       "    .dataframe thead th {\n",
       "        text-align: right;\n",
       "    }\n",
       "</style>\n",
       "<table border=\"1\" class=\"dataframe\">\n",
       "  <thead>\n",
       "    <tr style=\"text-align: right;\">\n",
       "      <th></th>\n",
       "      <th>FIPS</th>\n",
       "      <th>MedianIncome</th>\n",
       "      <th>MigraRate</th>\n",
       "      <th>BirthRate</th>\n",
       "      <th>DeathRate</th>\n",
       "      <th>BachelorRate</th>\n",
       "      <th>UnemploymentRate</th>\n",
       "      <th>West</th>\n",
       "      <th>Rockies</th>\n",
       "      <th>Gulf</th>\n",
       "      <th>Midwest</th>\n",
       "      <th>Southeast</th>\n",
       "      <th>Northeast</th>\n",
       "      <th>target</th>\n",
       "    </tr>\n",
       "  </thead>\n",
       "  <tbody>\n",
       "    <tr>\n",
       "      <th>0</th>\n",
       "      <td>18019</td>\n",
       "      <td>0.188697</td>\n",
       "      <td>0.416162</td>\n",
       "      <td>0.502519</td>\n",
       "      <td>0.056358</td>\n",
       "      <td>-0.065012</td>\n",
       "      <td>-0.518119</td>\n",
       "      <td>0</td>\n",
       "      <td>0</td>\n",
       "      <td>0</td>\n",
       "      <td>1</td>\n",
       "      <td>0</td>\n",
       "      <td>0</td>\n",
       "      <td>0</td>\n",
       "    </tr>\n",
       "    <tr>\n",
       "      <th>1</th>\n",
       "      <td>6035</td>\n",
       "      <td>0.025339</td>\n",
       "      <td>-1.459045</td>\n",
       "      <td>-0.959060</td>\n",
       "      <td>-1.611216</td>\n",
       "      <td>-1.026568</td>\n",
       "      <td>0.943105</td>\n",
       "      <td>1</td>\n",
       "      <td>0</td>\n",
       "      <td>0</td>\n",
       "      <td>0</td>\n",
       "      <td>0</td>\n",
       "      <td>0</td>\n",
       "      <td>0</td>\n",
       "    </tr>\n",
       "    <tr>\n",
       "      <th>2</th>\n",
       "      <td>40081</td>\n",
       "      <td>-0.364594</td>\n",
       "      <td>-0.082820</td>\n",
       "      <td>-0.065873</td>\n",
       "      <td>0.304720</td>\n",
       "      <td>-0.691644</td>\n",
       "      <td>0.077194</td>\n",
       "      <td>0</td>\n",
       "      <td>0</td>\n",
       "      <td>0</td>\n",
       "      <td>1</td>\n",
       "      <td>0</td>\n",
       "      <td>0</td>\n",
       "      <td>0</td>\n",
       "    </tr>\n",
       "    <tr>\n",
       "      <th>3</th>\n",
       "      <td>31153</td>\n",
       "      <td>1.989870</td>\n",
       "      <td>0.762230</td>\n",
       "      <td>1.070911</td>\n",
       "      <td>-2.072460</td>\n",
       "      <td>2.009357</td>\n",
       "      <td>-1.221672</td>\n",
       "      <td>0</td>\n",
       "      <td>0</td>\n",
       "      <td>0</td>\n",
       "      <td>1</td>\n",
       "      <td>0</td>\n",
       "      <td>0</td>\n",
       "      <td>0</td>\n",
       "    </tr>\n",
       "    <tr>\n",
       "      <th>4</th>\n",
       "      <td>28055</td>\n",
       "      <td>-1.799729</td>\n",
       "      <td>-1.008352</td>\n",
       "      <td>-0.715463</td>\n",
       "      <td>-1.966019</td>\n",
       "      <td>-1.599180</td>\n",
       "      <td>4.785582</td>\n",
       "      <td>0</td>\n",
       "      <td>0</td>\n",
       "      <td>1</td>\n",
       "      <td>0</td>\n",
       "      <td>0</td>\n",
       "      <td>0</td>\n",
       "      <td>1</td>\n",
       "    </tr>\n",
       "  </tbody>\n",
       "</table>\n",
       "</div>"
      ],
      "text/plain": [
       "    FIPS  MedianIncome  MigraRate  BirthRate  DeathRate  BachelorRate  \\\n",
       "0  18019      0.188697   0.416162   0.502519   0.056358     -0.065012   \n",
       "1   6035      0.025339  -1.459045  -0.959060  -1.611216     -1.026568   \n",
       "2  40081     -0.364594  -0.082820  -0.065873   0.304720     -0.691644   \n",
       "3  31153      1.989870   0.762230   1.070911  -2.072460      2.009357   \n",
       "4  28055     -1.799729  -1.008352  -0.715463  -1.966019     -1.599180   \n",
       "\n",
       "   UnemploymentRate  West  Rockies  Gulf  Midwest  Southeast  Northeast  \\\n",
       "0         -0.518119     0        0     0        1          0          0   \n",
       "1          0.943105     1        0     0        0          0          0   \n",
       "2          0.077194     0        0     0        1          0          0   \n",
       "3         -1.221672     0        0     0        1          0          0   \n",
       "4          4.785582     0        0     1        0          0          0   \n",
       "\n",
       "   target  \n",
       "0       0  \n",
       "1       0  \n",
       "2       0  \n",
       "3       0  \n",
       "4       1  "
      ]
     },
     "execution_count": 172,
     "metadata": {},
     "output_type": "execute_result"
    }
   ],
   "source": [
    "get_state_from_county = lambda county : county[county.index(\",\") + 2:]\n",
    "\n",
    "df[\"state_name\"] = df[\"County\"].apply(get_state_from_county)\n",
    "states = df[\"state_name\"].unique().tolist()\n",
    "\n",
    "#one-hot encode region data\n",
    "westcoast = ['CA', 'NV', 'WA', 'OR', 'AZ', 'AK', 'HI']\n",
    "rockies = ['ID', 'CO', 'MT', 'WY', 'UT']\n",
    "gulf = ['NM', 'TX', 'AR', 'LA', 'MS', 'AL']\n",
    "midwest = ['ND', 'SD', 'NE', 'KS', 'OK', 'MN', 'IA', 'MO', 'WI', 'IL', 'IN', 'MI', 'KY', 'TN', 'OH']\n",
    "southeast = ['FL', 'GA', 'SC', 'SC', 'NC', 'VA', 'WV']\n",
    "northeast = ['PA', 'MD', 'DE', 'PA', 'NJ', 'NY', 'CT', 'RI', 'MA', 'VT', 'NH', 'ME']\n",
    "\n",
    "regions = [westcoast, rockies, gulf, midwest, southeast, northeast]\n",
    "region_names = ['West', 'Rockies', 'Gulf', 'Midwest', 'Southeast', 'Northeast']\n",
    "\n",
    "for i in range(len(regions)):\n",
    "    df[region_names[i]] = (df['state_name'].isin(regions[i])).astype(int)\n",
    "\n",
    "# Create a target prediction column that is 1 if DEM score strictly greater than GOP score\n",
    "target = \"target\"\n",
    "df[target] = (df[\"DEM\"] > df[\"GOP\"]).astype(int)\n",
    "\n",
    "# Get rid of all commas in MedianIncome column\n",
    "df['MedianIncome']=df['MedianIncome'].str.replace(',','').astype(int)\n",
    "\n",
    "# Get rid of county, state_name, DEM and GOP columns\n",
    "df = df.drop(columns = [\"County\", \"DEM\", \"GOP\", \"state_name\"])\n",
    "\n",
    "\n",
    "# Get a list of all column names\n",
    "columns = ['MedianIncome', 'MigraRate', 'BirthRate', 'DeathRate', 'BachelorRate', 'UnemploymentRate']\n",
    "# Remove targets + ID from training columns, without dropping them from dataset\n",
    "# Now df[columns] will have the dataframe but with only the feature columns\n",
    "# and df[target] will have the prediction labels\n",
    "\n",
    "\n",
    "std_scaler = StandardScaler()\n",
    "std_scaler.fit(df[columns])\n",
    "df[columns] = std_scaler.transform(df[columns])\n",
    "\n",
    "\n",
    "df.head()"
   ]
  },
  {
   "cell_type": "code",
   "execution_count": 180,
   "metadata": {},
   "outputs": [
    {
     "data": {
      "text/plain": [
       "{'fit_time': array([0.00719404, 0.00646615, 0.00771689, 0.0096519 , 0.00988507]),\n",
       " 'score_time': array([0.0037179 , 0.00536609, 0.00757718, 0.00519919, 0.00653481]),\n",
       " 'estimator': (LinearDiscriminantAnalysis(),\n",
       "  LinearDiscriminantAnalysis(),\n",
       "  LinearDiscriminantAnalysis(),\n",
       "  LinearDiscriminantAnalysis(),\n",
       "  LinearDiscriminantAnalysis()),\n",
       " 'test_score': array([0.75540035, 0.84521944, 0.80335157, 0.79629929, 0.84908213])}"
      ]
     },
     "execution_count": 180,
     "metadata": {},
     "output_type": "execute_result"
    }
   ],
   "source": [
    "from sklearn.discriminant_analysis import LinearDiscriminantAnalysis\n",
    "from sklearn.model_selection import train_test_split, cross_validate\n",
    "from sklearn.metrics import make_scorer\n",
    "\n",
    "lda = LinearDiscriminantAnalysis()\n",
    "labels = df['target']\n",
    "features = df[df.columns[1:-1]]\n",
    "\n",
    "x_train, x_test, y_train, y_test = train_test_split(features, labels, test_size = 0.2)\n",
    "scores = cross_validate(lda, x_train, y_train, scoring = make_scorer(weighted_accuracy), return_estimator = True)\n",
    "scores"
   ]
  },
  {
   "cell_type": "code",
   "execution_count": 183,
   "metadata": {},
   "outputs": [
    {
     "name": "stdout",
     "output_type": "stream",
     "text": [
      "0.7243589743589743\n"
     ]
    }
   ],
   "source": [
    "lda_best = scores['estimator'][2]\n",
    "y_pred = lda_best.predict(x_test)\n",
    "print(weighted_accuracy(y_pred, y_test))"
   ]
  },
  {
   "cell_type": "code",
   "execution_count": 184,
   "metadata": {},
   "outputs": [
    {
     "data": {
      "text/html": [
       "<div>\n",
       "<style scoped>\n",
       "    .dataframe tbody tr th:only-of-type {\n",
       "        vertical-align: middle;\n",
       "    }\n",
       "\n",
       "    .dataframe tbody tr th {\n",
       "        vertical-align: top;\n",
       "    }\n",
       "\n",
       "    .dataframe thead th {\n",
       "        text-align: right;\n",
       "    }\n",
       "</style>\n",
       "<table border=\"1\" class=\"dataframe\">\n",
       "  <thead>\n",
       "    <tr style=\"text-align: right;\">\n",
       "      <th></th>\n",
       "      <th>FIPS</th>\n",
       "      <th>MedianIncome</th>\n",
       "      <th>MigraRate</th>\n",
       "      <th>BirthRate</th>\n",
       "      <th>DeathRate</th>\n",
       "      <th>BachelorRate</th>\n",
       "      <th>UnemploymentRate</th>\n",
       "      <th>West</th>\n",
       "      <th>Rockies</th>\n",
       "      <th>Gulf</th>\n",
       "      <th>Midwest</th>\n",
       "      <th>Southeast</th>\n",
       "      <th>Northeast</th>\n",
       "    </tr>\n",
       "  </thead>\n",
       "  <tbody>\n",
       "    <tr>\n",
       "      <th>0</th>\n",
       "      <td>17059</td>\n",
       "      <td>-0.786575</td>\n",
       "      <td>-0.831293</td>\n",
       "      <td>-0.309469</td>\n",
       "      <td>0.588562</td>\n",
       "      <td>-1.253452</td>\n",
       "      <td>1.321940</td>\n",
       "      <td>0</td>\n",
       "      <td>0</td>\n",
       "      <td>0</td>\n",
       "      <td>1</td>\n",
       "      <td>0</td>\n",
       "      <td>0</td>\n",
       "    </tr>\n",
       "    <tr>\n",
       "      <th>1</th>\n",
       "      <td>6103</td>\n",
       "      <td>-0.710570</td>\n",
       "      <td>0.166671</td>\n",
       "      <td>0.502519</td>\n",
       "      <td>-0.156524</td>\n",
       "      <td>-0.648428</td>\n",
       "      <td>1.051343</td>\n",
       "      <td>1</td>\n",
       "      <td>0</td>\n",
       "      <td>0</td>\n",
       "      <td>0</td>\n",
       "      <td>0</td>\n",
       "      <td>0</td>\n",
       "    </tr>\n",
       "    <tr>\n",
       "      <th>2</th>\n",
       "      <td>42047</td>\n",
       "      <td>-0.016139</td>\n",
       "      <td>-0.726668</td>\n",
       "      <td>-0.756063</td>\n",
       "      <td>0.765964</td>\n",
       "      <td>-0.313504</td>\n",
       "      <td>0.185433</td>\n",
       "      <td>0</td>\n",
       "      <td>0</td>\n",
       "      <td>0</td>\n",
       "      <td>0</td>\n",
       "      <td>0</td>\n",
       "      <td>1</td>\n",
       "    </tr>\n",
       "    <tr>\n",
       "      <th>3</th>\n",
       "      <td>47147</td>\n",
       "      <td>0.720170</td>\n",
       "      <td>0.617364</td>\n",
       "      <td>0.461919</td>\n",
       "      <td>-0.404886</td>\n",
       "      <td>-0.313504</td>\n",
       "      <td>-0.572239</td>\n",
       "      <td>0</td>\n",
       "      <td>0</td>\n",
       "      <td>0</td>\n",
       "      <td>1</td>\n",
       "      <td>0</td>\n",
       "      <td>0</td>\n",
       "    </tr>\n",
       "    <tr>\n",
       "      <th>4</th>\n",
       "      <td>39039</td>\n",
       "      <td>0.218508</td>\n",
       "      <td>-0.404744</td>\n",
       "      <td>-0.187671</td>\n",
       "      <td>-0.227485</td>\n",
       "      <td>-0.518780</td>\n",
       "      <td>-0.139283</td>\n",
       "      <td>0</td>\n",
       "      <td>0</td>\n",
       "      <td>0</td>\n",
       "      <td>1</td>\n",
       "      <td>0</td>\n",
       "      <td>0</td>\n",
       "    </tr>\n",
       "  </tbody>\n",
       "</table>\n",
       "</div>"
      ],
      "text/plain": [
       "    FIPS  MedianIncome  MigraRate  BirthRate  DeathRate  BachelorRate  \\\n",
       "0  17059     -0.786575  -0.831293  -0.309469   0.588562     -1.253452   \n",
       "1   6103     -0.710570   0.166671   0.502519  -0.156524     -0.648428   \n",
       "2  42047     -0.016139  -0.726668  -0.756063   0.765964     -0.313504   \n",
       "3  47147      0.720170   0.617364   0.461919  -0.404886     -0.313504   \n",
       "4  39039      0.218508  -0.404744  -0.187671  -0.227485     -0.518780   \n",
       "\n",
       "   UnemploymentRate  West  Rockies  Gulf  Midwest  Southeast  Northeast  \n",
       "0          1.321940     0        0     0        1          0          0  \n",
       "1          1.051343     1        0     0        0          0          0  \n",
       "2          0.185433     0        0     0        0          0          1  \n",
       "3         -0.572239     0        0     0        1          0          0  \n",
       "4         -0.139283     0        0     0        1          0          0  "
      ]
     },
     "execution_count": 184,
     "metadata": {},
     "output_type": "execute_result"
    }
   ],
   "source": [
    "test = pd.read_csv(\"test_2016_no_label.csv\")\n",
    "\n",
    "get_state_from_county = lambda county : county[county.index(\",\") + 2:]\n",
    "\n",
    "test[\"state_name\"] = test[\"County\"].apply(get_state_from_county)\n",
    "states = test[\"state_name\"].unique().tolist()\n",
    "\n",
    "#one-hot encode state data\n",
    "\n",
    "westcoast = ['CA', 'NV', 'WA', 'OR', 'AZ', 'AK', 'HI']\n",
    "rockies = ['ID', 'CO', 'MT', 'WY', 'UT']\n",
    "gulf = ['NM', 'TX', 'AR', 'LA', 'MS', 'AL']\n",
    "midwest = ['ND', 'SD', 'NE', 'KS', 'OK', 'MN', 'IA', 'MO', 'WI', 'IL', 'IN', 'MI', 'KY', 'TN', 'OH']\n",
    "southeast = ['FL', 'GA', 'SC', 'SC', 'NC', 'VA', 'WV']\n",
    "northeast = ['PA', 'MD', 'DE', 'PA', 'NJ', 'NY', 'CT', 'RI', 'MA', 'VT', 'NH', 'ME']\n",
    "\n",
    "regions = [westcoast, rockies, gulf, midwest, southeast, northeast]\n",
    "region_names = ['West', 'Rockies', 'Gulf', 'Midwest', 'Southeast', 'Northeast']\n",
    "\n",
    "for i in range(len(regions)):\n",
    "    test[region_names[i]] = (test['state_name'].isin(regions[i])).astype(int)\n",
    "\n",
    "# Get rid of all commas in MedianIncome column\n",
    "test['MedianIncome']=test['MedianIncome'].str.replace(',','').astype(int)\n",
    "\n",
    "# Get rid of county, state_name, DEM and GOP columns\n",
    "test.drop(columns = [\"County\", \"state_name\"], inplace = True)\n",
    "\n",
    "\n",
    "# Get a list of all column names\n",
    "columns = ['MedianIncome', 'MigraRate', 'BirthRate', 'DeathRate', 'BachelorRate', 'UnemploymentRate']\n",
    "# Remove targets + ID from training columns, without dropping them from dataset\n",
    "# Now df[columns] will have the dataframe but with only the feature columns\n",
    "# and df[target] will have the prediction labels\n",
    "\n",
    "test[columns] = std_scaler.transform(test[columns])\n",
    "\n",
    "test.head()"
   ]
  },
  {
   "cell_type": "code",
   "execution_count": 186,
   "metadata": {},
   "outputs": [
    {
     "data": {
      "text/html": [
       "<div>\n",
       "<style scoped>\n",
       "    .dataframe tbody tr th:only-of-type {\n",
       "        vertical-align: middle;\n",
       "    }\n",
       "\n",
       "    .dataframe tbody tr th {\n",
       "        vertical-align: top;\n",
       "    }\n",
       "\n",
       "    .dataframe thead th {\n",
       "        text-align: right;\n",
       "    }\n",
       "</style>\n",
       "<table border=\"1\" class=\"dataframe\">\n",
       "  <thead>\n",
       "    <tr style=\"text-align: right;\">\n",
       "      <th></th>\n",
       "      <th>FIPS</th>\n",
       "      <th>Result</th>\n",
       "    </tr>\n",
       "  </thead>\n",
       "  <tbody>\n",
       "    <tr>\n",
       "      <th>0</th>\n",
       "      <td>17059</td>\n",
       "      <td>0</td>\n",
       "    </tr>\n",
       "    <tr>\n",
       "      <th>1</th>\n",
       "      <td>6103</td>\n",
       "      <td>0</td>\n",
       "    </tr>\n",
       "    <tr>\n",
       "      <th>2</th>\n",
       "      <td>42047</td>\n",
       "      <td>0</td>\n",
       "    </tr>\n",
       "    <tr>\n",
       "      <th>3</th>\n",
       "      <td>47147</td>\n",
       "      <td>0</td>\n",
       "    </tr>\n",
       "    <tr>\n",
       "      <th>4</th>\n",
       "      <td>39039</td>\n",
       "      <td>0</td>\n",
       "    </tr>\n",
       "  </tbody>\n",
       "</table>\n",
       "</div>"
      ],
      "text/plain": [
       "    FIPS  Result\n",
       "0  17059       0\n",
       "1   6103       0\n",
       "2  42047       0\n",
       "3  47147       0\n",
       "4  39039       0"
      ]
     },
     "execution_count": 186,
     "metadata": {},
     "output_type": "execute_result"
    }
   ],
   "source": [
    "test_features = test[test.columns[1:]]\n",
    "outputdf2 = pd.DataFrame(test['FIPS'])\n",
    "outputdf2['Result'] = lda_best.predict(test_features)\n",
    "outputdf2.head()"
   ]
  },
  {
   "cell_type": "code",
   "execution_count": 188,
   "metadata": {},
   "outputs": [],
   "source": [
    "outputdf2.to_csv('Predictions2.csv', index = False)"
   ]
  },
  {
   "cell_type": "markdown",
   "metadata": {
    "id": "TbJ4kRDhWNp2"
   },
   "source": [
    "<h3>2.3 Training, Validation and Model Selection:</h3><p>\n",
    "You need to split your data to a training set and validation set or performing a cross-validation for model selection."
   ]
  },
  {
   "cell_type": "code",
   "execution_count": null,
   "metadata": {
    "id": "e3mQNv56WNp2"
   },
   "outputs": [],
   "source": [
    "# Make sure you comment your code clearly and you may refer to these comments in the part 2.4\n",
    "# TODO"
   ]
  },
  {
   "cell_type": "markdown",
   "metadata": {
    "id": "ZuOP9JmuWNp2"
   },
   "source": [
    "<h3>2.4 Explanation in Words:</h3><p>\n",
    "    You need to answer the following questions in the markdown cell after this cell:"
   ]
  },
  {
   "cell_type": "markdown",
   "metadata": {
    "id": "HHiJ7drqWNp2"
   },
   "source": [
    "2.4.1 How did you preprocess the dataset and features?\n",
    "\n",
    "2.4.2 Which two learning methods from class did you choose and why did you made the choices?\n",
    "\n",
    "2.4.3 How did you do the model selection?\n",
    "\n",
    "2.4.4 Does the test performance reach a given baseline 68% performanc? (Please include a screenshot of Kaggle Submission)"
   ]
  },
  {
   "cell_type": "markdown",
   "metadata": {
    "id": "8pwkT1-tWNp2"
   },
   "source": []
  },
  {
   "cell_type": "markdown",
   "metadata": {
    "id": "f2JwrNuEWNp2"
   },
   "source": [
    "<h2>Part 3: Creative Solution</h2><p>"
   ]
  },
  {
   "cell_type": "markdown",
   "metadata": {
    "id": "HttJ6XeDWNp2"
   },
   "source": [
    "<h3>3.1 Open-ended Code:</h3><p>\n",
    "You may follow the steps in part 2 again but making innovative changes like creating new features, using new training algorithms, etc. Make sure you explain everything clearly in part 3.2. Note that reaching the 75% creative baseline is only a small portion of this part. Any creative ideas will receive most points as long as they are reasonable and clearly explained."
   ]
  },
  {
   "cell_type": "code",
   "execution_count": 246,
   "metadata": {
    "id": "DauIU5pgWNp2"
   },
   "outputs": [
    {
     "data": {
      "text/html": [
       "<div>\n",
       "<style scoped>\n",
       "    .dataframe tbody tr th:only-of-type {\n",
       "        vertical-align: middle;\n",
       "    }\n",
       "\n",
       "    .dataframe tbody tr th {\n",
       "        vertical-align: top;\n",
       "    }\n",
       "\n",
       "    .dataframe thead th {\n",
       "        text-align: right;\n",
       "    }\n",
       "</style>\n",
       "<table border=\"1\" class=\"dataframe\">\n",
       "  <thead>\n",
       "    <tr style=\"text-align: right;\">\n",
       "      <th></th>\n",
       "      <th>FIPS</th>\n",
       "      <th>MedianIncome</th>\n",
       "      <th>MigraRate</th>\n",
       "      <th>BirthRate</th>\n",
       "      <th>DeathRate</th>\n",
       "      <th>BachelorRate</th>\n",
       "      <th>UnemploymentRate</th>\n",
       "      <th>state_name</th>\n",
       "      <th>target</th>\n",
       "    </tr>\n",
       "  </thead>\n",
       "  <tbody>\n",
       "    <tr>\n",
       "      <th>0</th>\n",
       "      <td>18019</td>\n",
       "      <td>0.188697</td>\n",
       "      <td>0.416162</td>\n",
       "      <td>0.502519</td>\n",
       "      <td>0.056358</td>\n",
       "      <td>-0.065012</td>\n",
       "      <td>-0.518119</td>\n",
       "      <td>IN</td>\n",
       "      <td>0</td>\n",
       "    </tr>\n",
       "    <tr>\n",
       "      <th>1</th>\n",
       "      <td>6035</td>\n",
       "      <td>0.025339</td>\n",
       "      <td>-1.459045</td>\n",
       "      <td>-0.959060</td>\n",
       "      <td>-1.611216</td>\n",
       "      <td>-1.026568</td>\n",
       "      <td>0.943105</td>\n",
       "      <td>CA</td>\n",
       "      <td>0</td>\n",
       "    </tr>\n",
       "    <tr>\n",
       "      <th>2</th>\n",
       "      <td>40081</td>\n",
       "      <td>-0.364594</td>\n",
       "      <td>-0.082820</td>\n",
       "      <td>-0.065873</td>\n",
       "      <td>0.304720</td>\n",
       "      <td>-0.691644</td>\n",
       "      <td>0.077194</td>\n",
       "      <td>OK</td>\n",
       "      <td>0</td>\n",
       "    </tr>\n",
       "    <tr>\n",
       "      <th>3</th>\n",
       "      <td>31153</td>\n",
       "      <td>1.989870</td>\n",
       "      <td>0.762230</td>\n",
       "      <td>1.070911</td>\n",
       "      <td>-2.072460</td>\n",
       "      <td>2.009357</td>\n",
       "      <td>-1.221672</td>\n",
       "      <td>NE</td>\n",
       "      <td>0</td>\n",
       "    </tr>\n",
       "    <tr>\n",
       "      <th>4</th>\n",
       "      <td>28055</td>\n",
       "      <td>-1.799729</td>\n",
       "      <td>-1.008352</td>\n",
       "      <td>-0.715463</td>\n",
       "      <td>-1.966019</td>\n",
       "      <td>-1.599180</td>\n",
       "      <td>4.785582</td>\n",
       "      <td>MS</td>\n",
       "      <td>1</td>\n",
       "    </tr>\n",
       "  </tbody>\n",
       "</table>\n",
       "</div>"
      ],
      "text/plain": [
       "    FIPS  MedianIncome  MigraRate  BirthRate  DeathRate  BachelorRate  \\\n",
       "0  18019      0.188697   0.416162   0.502519   0.056358     -0.065012   \n",
       "1   6035      0.025339  -1.459045  -0.959060  -1.611216     -1.026568   \n",
       "2  40081     -0.364594  -0.082820  -0.065873   0.304720     -0.691644   \n",
       "3  31153      1.989870   0.762230   1.070911  -2.072460      2.009357   \n",
       "4  28055     -1.799729  -1.008352  -0.715463  -1.966019     -1.599180   \n",
       "\n",
       "   UnemploymentRate state_name  target  \n",
       "0         -0.518119         IN       0  \n",
       "1          0.943105         CA       0  \n",
       "2          0.077194         OK       0  \n",
       "3         -1.221672         NE       0  \n",
       "4          4.785582         MS       1  "
      ]
     },
     "execution_count": 246,
     "metadata": {},
     "output_type": "execute_result"
    }
   ],
   "source": [
    "# Make sure you comment your code clearly and you may refer to these comments in the part 3.2\n",
    "# TODO\n",
    "historical = pd.read_csv('train_2012.csv')\n",
    "df2.head()\n",
    "\n",
    "get_state_from_county = lambda county : county[county.index(\",\") + 2:]\n",
    "\n",
    "df2[\"state_name\"] = df2[\"County\"].apply(get_state_from_county)\n",
    "states = df2[\"state_name\"].unique().tolist()\n",
    "\n",
    "#one-hot encode state data\n",
    "#onehot = pd.get_dummies(df[\"state_name\"], prefix = None)\n",
    "#df[onehot.columns] = onehot\n",
    "\n",
    "# Create a target prediction column that is 1 if DEM score strictly greater than GOP score\n",
    "target = \"target\"\n",
    "df2[target] = (df2[\"DEM\"] > df2[\"GOP\"]).astype(int)\n",
    "\n",
    "# Get rid of all commas in MedianIncome column\n",
    "df2['MedianIncome']=df2['MedianIncome'].str.replace(',','').astype(int)\n",
    "\n",
    "# Get rid of county, state_name, DEM and GOP columns\n",
    "df2 = df2.drop(columns = [\"County\", \"DEM\", \"GOP\"])\n",
    "\n",
    "\n",
    "# Get a list of all column names\n",
    "columns = ['MedianIncome', 'MigraRate', 'BirthRate', 'DeathRate', 'BachelorRate', 'UnemploymentRate']\n",
    "# Remove targets + ID from training columns, without dropping them from dataset\n",
    "# Now df[columns] will have the dataframe but with only the feature columns\n",
    "# and df[target] will have the prediction labels\n",
    "\n",
    "\n",
    "std_scaler = StandardScaler()\n",
    "std_scaler.fit(df2[columns])\n",
    "df2[columns] = std_scaler.transform(df2[columns])\n",
    "\n",
    "\n",
    "df2.head()"
   ]
  },
  {
   "cell_type": "code",
   "execution_count": 258,
   "metadata": {},
   "outputs": [
    {
     "data": {
      "text/html": [
       "<div>\n",
       "<style scoped>\n",
       "    .dataframe tbody tr th:only-of-type {\n",
       "        vertical-align: middle;\n",
       "    }\n",
       "\n",
       "    .dataframe tbody tr th {\n",
       "        vertical-align: top;\n",
       "    }\n",
       "\n",
       "    .dataframe thead th {\n",
       "        text-align: right;\n",
       "    }\n",
       "</style>\n",
       "<table border=\"1\" class=\"dataframe\">\n",
       "  <thead>\n",
       "    <tr style=\"text-align: right;\">\n",
       "      <th></th>\n",
       "      <th>FIPS</th>\n",
       "      <th>County</th>\n",
       "      <th>DEM</th>\n",
       "      <th>GOP</th>\n",
       "      <th>MedianIncome</th>\n",
       "      <th>MigraRate</th>\n",
       "      <th>BirthRate</th>\n",
       "      <th>DeathRate</th>\n",
       "      <th>BachelorRate</th>\n",
       "      <th>UnemploymentRate</th>\n",
       "    </tr>\n",
       "  </thead>\n",
       "  <tbody>\n",
       "    <tr>\n",
       "      <th>0</th>\n",
       "      <td>18019</td>\n",
       "      <td>Clark County, IN</td>\n",
       "      <td>20775</td>\n",
       "      <td>25422</td>\n",
       "      <td>49,164</td>\n",
       "      <td>0.1</td>\n",
       "      <td>13.1</td>\n",
       "      <td>9.7</td>\n",
       "      <td>19.7</td>\n",
       "      <td>7.8</td>\n",
       "    </tr>\n",
       "    <tr>\n",
       "      <th>1</th>\n",
       "      <td>6035</td>\n",
       "      <td>Lassen County, CA</td>\n",
       "      <td>3044</td>\n",
       "      <td>7261</td>\n",
       "      <td>47,480</td>\n",
       "      <td>-19.8</td>\n",
       "      <td>9.0</td>\n",
       "      <td>8.0</td>\n",
       "      <td>12.9</td>\n",
       "      <td>12.5</td>\n",
       "    </tr>\n",
       "    <tr>\n",
       "      <th>2</th>\n",
       "      <td>40081</td>\n",
       "      <td>Lincoln County, OK</td>\n",
       "      <td>3265</td>\n",
       "      <td>9542</td>\n",
       "      <td>44,149</td>\n",
       "      <td>-2.8</td>\n",
       "      <td>11.3</td>\n",
       "      <td>11.1</td>\n",
       "      <td>13.1</td>\n",
       "      <td>5.0</td>\n",
       "    </tr>\n",
       "    <tr>\n",
       "      <th>3</th>\n",
       "      <td>31153</td>\n",
       "      <td>Sarpy County, NE</td>\n",
       "      <td>24709</td>\n",
       "      <td>40318</td>\n",
       "      <td>68,118</td>\n",
       "      <td>8.0</td>\n",
       "      <td>15.9</td>\n",
       "      <td>4.9</td>\n",
       "      <td>36.6</td>\n",
       "      <td>3.9</td>\n",
       "    </tr>\n",
       "    <tr>\n",
       "      <th>4</th>\n",
       "      <td>28055</td>\n",
       "      <td>Issaquena County, MS</td>\n",
       "      <td>479</td>\n",
       "      <td>302</td>\n",
       "      <td>28,886</td>\n",
       "      <td>2.2</td>\n",
       "      <td>8.6</td>\n",
       "      <td>7.2</td>\n",
       "      <td>7.8</td>\n",
       "      <td>17.6</td>\n",
       "    </tr>\n",
       "  </tbody>\n",
       "</table>\n",
       "</div>"
      ],
      "text/plain": [
       "    FIPS                County    DEM    GOP MedianIncome  MigraRate  \\\n",
       "0  18019      Clark County, IN  20775  25422       49,164        0.1   \n",
       "1   6035     Lassen County, CA   3044   7261       47,480      -19.8   \n",
       "2  40081    Lincoln County, OK   3265   9542       44,149       -2.8   \n",
       "3  31153      Sarpy County, NE  24709  40318       68,118        8.0   \n",
       "4  28055  Issaquena County, MS    479    302       28,886        2.2   \n",
       "\n",
       "   BirthRate  DeathRate  BachelorRate  UnemploymentRate  \n",
       "0       13.1        9.7          19.7               7.8  \n",
       "1        9.0        8.0          12.9              12.5  \n",
       "2       11.3       11.1          13.1               5.0  \n",
       "3       15.9        4.9          36.6               3.9  \n",
       "4        8.6        7.2           7.8              17.6  "
      ]
     },
     "execution_count": 258,
     "metadata": {},
     "output_type": "execute_result"
    }
   ],
   "source": [
    "get_id_from_state = lambda state : states.index(state)\n",
    "df2[\"state\"] = df2[\"state_name\"].apply(get_id_from_state)\n",
    "historical.head()"
   ]
  },
  {
   "cell_type": "markdown",
   "metadata": {
    "id": "hwAAxp-nWNp2"
   },
   "source": [
    "<h3>3.2 Explanation in Words:</h3><p>"
   ]
  },
  {
   "cell_type": "markdown",
   "metadata": {
    "id": "Q8VSGimzWNp2"
   },
   "source": [
    "You need to answer the following questions in a markdown cell after this cell:\n",
    "\n",
    "3.2.1 How much did you manage to improve performance on the test set compared to part 2? Did you reach the 75% accuracy for the test in Kaggle? (Please include a screenshot of Kaggle Submission)\n",
    "\n",
    "3.2.2 Please explain in detail how you achieved this and what you did specifically and why you tried this."
   ]
  },
  {
   "cell_type": "markdown",
   "metadata": {
    "id": "aLaBvS8xWNp2"
   },
   "source": []
  },
  {
   "cell_type": "markdown",
   "metadata": {
    "id": "BEPzXDJKWNp2"
   },
   "source": [
    "<h2>Part 4: Kaggle Submission</h2><p>\n",
    "You need to generate a prediction CSV using the following cell from your trained model and submit the direct output of your code to Kaggle. The CSV shall contain TWO column named exactly \"FIPS\" and \"Result\" and 1555 total rows excluding the column names, \"FIPS\" column shall contain FIPS of counties with same order as in the test_2016_no_label.csv while \"Result\" column shall contain the 0 or 1 prdicaitons for corresponding columns. A sample predication file can be downloaded from Kaggle."
   ]
  },
  {
   "cell_type": "code",
   "execution_count": null,
   "metadata": {
    "id": "OeaPBr5lWNp2"
   },
   "outputs": [],
   "source": [
    "# TODO\n",
    "\n",
    "# You may use pandas to generate a dataframe with FIPS and your predictions first \n",
    "# and then use to_csv to generate a CSV file."
   ]
  },
  {
   "cell_type": "markdown",
   "metadata": {
    "id": "pTXmf-A4WNp2"
   },
   "source": [
    "<h2>Part 5: Resources and Literature Used</h2><p>"
   ]
  },
  {
   "cell_type": "markdown",
   "metadata": {
    "id": "gQ33BTvJWNp2"
   },
   "source": []
  }
 ],
 "metadata": {
  "colab": {
   "collapsed_sections": [],
   "name": "CS 4780 Final Project Student Template.ipynb",
   "provenance": []
  },
  "kernelspec": {
   "display_name": "Python 3",
   "language": "python",
   "name": "python3"
  },
  "language_info": {
   "codemirror_mode": {
    "name": "ipython",
    "version": 3
   },
   "file_extension": ".py",
   "mimetype": "text/x-python",
   "name": "python",
   "nbconvert_exporter": "python",
   "pygments_lexer": "ipython3",
   "version": "3.8.5"
  }
 },
 "nbformat": 4,
 "nbformat_minor": 1
}
